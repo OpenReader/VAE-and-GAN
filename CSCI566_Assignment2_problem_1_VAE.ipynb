{
  "nbformat": 4,
  "nbformat_minor": 0,
  "metadata": {
    "accelerator": "GPU",
    "colab": {
      "name": "Copy of CSCI566_Assignment2_VAE.ipynb",
      "provenance": [],
      "collapsed_sections": []
    },
    "kernelspec": {
      "display_name": "Python 3",
      "language": "python",
      "name": "python3"
    },
    "language_info": {
      "codemirror_mode": {
        "name": "ipython",
        "version": 3
      },
      "file_extension": ".py",
      "mimetype": "text/x-python",
      "name": "python",
      "nbconvert_exporter": "python",
      "pygments_lexer": "ipython3",
      "version": "3.7.6"
    },
    "widgets": {
      "application/vnd.jupyter.widget-state+json": {
        "ce8f2fafca6d4d4d8cf0278c0ddd964f": {
          "model_module": "@jupyter-widgets/controls",
          "model_name": "HBoxModel",
          "state": {
            "_view_name": "HBoxView",
            "_dom_classes": [],
            "_model_name": "HBoxModel",
            "_view_module": "@jupyter-widgets/controls",
            "_model_module_version": "1.5.0",
            "_view_count": null,
            "_view_module_version": "1.5.0",
            "box_style": "",
            "layout": "IPY_MODEL_7f0ad35e2c06451dbb003985533f526b",
            "_model_module": "@jupyter-widgets/controls",
            "children": [
              "IPY_MODEL_ce1a22cb60c64a9ead9bb6f4b5fe628e",
              "IPY_MODEL_4415de79f81a4b6994a626a5720d99bc"
            ]
          }
        },
        "7f0ad35e2c06451dbb003985533f526b": {
          "model_module": "@jupyter-widgets/base",
          "model_name": "LayoutModel",
          "state": {
            "_view_name": "LayoutView",
            "grid_template_rows": null,
            "right": null,
            "justify_content": null,
            "_view_module": "@jupyter-widgets/base",
            "overflow": null,
            "_model_module_version": "1.2.0",
            "_view_count": null,
            "flex_flow": null,
            "width": null,
            "min_width": null,
            "border": null,
            "align_items": null,
            "bottom": null,
            "_model_module": "@jupyter-widgets/base",
            "top": null,
            "grid_column": null,
            "overflow_y": null,
            "overflow_x": null,
            "grid_auto_flow": null,
            "grid_area": null,
            "grid_template_columns": null,
            "flex": null,
            "_model_name": "LayoutModel",
            "justify_items": null,
            "grid_row": null,
            "max_height": null,
            "align_content": null,
            "visibility": null,
            "align_self": null,
            "height": null,
            "min_height": null,
            "padding": null,
            "grid_auto_rows": null,
            "grid_gap": null,
            "max_width": null,
            "order": null,
            "_view_module_version": "1.2.0",
            "grid_template_areas": null,
            "object_position": null,
            "object_fit": null,
            "grid_auto_columns": null,
            "margin": null,
            "display": null,
            "left": null
          }
        },
        "ce1a22cb60c64a9ead9bb6f4b5fe628e": {
          "model_module": "@jupyter-widgets/controls",
          "model_name": "FloatProgressModel",
          "state": {
            "_view_name": "ProgressView",
            "style": "IPY_MODEL_02a41742355f407b837c4ba56e0c7550",
            "_dom_classes": [],
            "description": "",
            "_model_name": "FloatProgressModel",
            "bar_style": "success",
            "max": 1,
            "_view_module": "@jupyter-widgets/controls",
            "_model_module_version": "1.5.0",
            "value": 1,
            "_view_count": null,
            "_view_module_version": "1.5.0",
            "orientation": "horizontal",
            "min": 0,
            "description_tooltip": null,
            "_model_module": "@jupyter-widgets/controls",
            "layout": "IPY_MODEL_21b91e2f86c84a3b948af8536e91b48a"
          }
        },
        "4415de79f81a4b6994a626a5720d99bc": {
          "model_module": "@jupyter-widgets/controls",
          "model_name": "HTMLModel",
          "state": {
            "_view_name": "HTMLView",
            "style": "IPY_MODEL_cdf237e379f34b888864e144d38f6706",
            "_dom_classes": [],
            "description": "",
            "_model_name": "HTMLModel",
            "placeholder": "​",
            "_view_module": "@jupyter-widgets/controls",
            "_model_module_version": "1.5.0",
            "value": " 9920512/? [00:04&lt;00:00, 2349970.95it/s]",
            "_view_count": null,
            "_view_module_version": "1.5.0",
            "description_tooltip": null,
            "_model_module": "@jupyter-widgets/controls",
            "layout": "IPY_MODEL_943177f8db9740bcb0b1362d688c1762"
          }
        },
        "02a41742355f407b837c4ba56e0c7550": {
          "model_module": "@jupyter-widgets/controls",
          "model_name": "ProgressStyleModel",
          "state": {
            "_view_name": "StyleView",
            "_model_name": "ProgressStyleModel",
            "description_width": "initial",
            "_view_module": "@jupyter-widgets/base",
            "_model_module_version": "1.5.0",
            "_view_count": null,
            "_view_module_version": "1.2.0",
            "bar_color": null,
            "_model_module": "@jupyter-widgets/controls"
          }
        },
        "21b91e2f86c84a3b948af8536e91b48a": {
          "model_module": "@jupyter-widgets/base",
          "model_name": "LayoutModel",
          "state": {
            "_view_name": "LayoutView",
            "grid_template_rows": null,
            "right": null,
            "justify_content": null,
            "_view_module": "@jupyter-widgets/base",
            "overflow": null,
            "_model_module_version": "1.2.0",
            "_view_count": null,
            "flex_flow": null,
            "width": null,
            "min_width": null,
            "border": null,
            "align_items": null,
            "bottom": null,
            "_model_module": "@jupyter-widgets/base",
            "top": null,
            "grid_column": null,
            "overflow_y": null,
            "overflow_x": null,
            "grid_auto_flow": null,
            "grid_area": null,
            "grid_template_columns": null,
            "flex": null,
            "_model_name": "LayoutModel",
            "justify_items": null,
            "grid_row": null,
            "max_height": null,
            "align_content": null,
            "visibility": null,
            "align_self": null,
            "height": null,
            "min_height": null,
            "padding": null,
            "grid_auto_rows": null,
            "grid_gap": null,
            "max_width": null,
            "order": null,
            "_view_module_version": "1.2.0",
            "grid_template_areas": null,
            "object_position": null,
            "object_fit": null,
            "grid_auto_columns": null,
            "margin": null,
            "display": null,
            "left": null
          }
        },
        "cdf237e379f34b888864e144d38f6706": {
          "model_module": "@jupyter-widgets/controls",
          "model_name": "DescriptionStyleModel",
          "state": {
            "_view_name": "StyleView",
            "_model_name": "DescriptionStyleModel",
            "description_width": "",
            "_view_module": "@jupyter-widgets/base",
            "_model_module_version": "1.5.0",
            "_view_count": null,
            "_view_module_version": "1.2.0",
            "_model_module": "@jupyter-widgets/controls"
          }
        },
        "943177f8db9740bcb0b1362d688c1762": {
          "model_module": "@jupyter-widgets/base",
          "model_name": "LayoutModel",
          "state": {
            "_view_name": "LayoutView",
            "grid_template_rows": null,
            "right": null,
            "justify_content": null,
            "_view_module": "@jupyter-widgets/base",
            "overflow": null,
            "_model_module_version": "1.2.0",
            "_view_count": null,
            "flex_flow": null,
            "width": null,
            "min_width": null,
            "border": null,
            "align_items": null,
            "bottom": null,
            "_model_module": "@jupyter-widgets/base",
            "top": null,
            "grid_column": null,
            "overflow_y": null,
            "overflow_x": null,
            "grid_auto_flow": null,
            "grid_area": null,
            "grid_template_columns": null,
            "flex": null,
            "_model_name": "LayoutModel",
            "justify_items": null,
            "grid_row": null,
            "max_height": null,
            "align_content": null,
            "visibility": null,
            "align_self": null,
            "height": null,
            "min_height": null,
            "padding": null,
            "grid_auto_rows": null,
            "grid_gap": null,
            "max_width": null,
            "order": null,
            "_view_module_version": "1.2.0",
            "grid_template_areas": null,
            "object_position": null,
            "object_fit": null,
            "grid_auto_columns": null,
            "margin": null,
            "display": null,
            "left": null
          }
        },
        "7903f7a5fc554a34af861c099d423ed7": {
          "model_module": "@jupyter-widgets/controls",
          "model_name": "HBoxModel",
          "state": {
            "_view_name": "HBoxView",
            "_dom_classes": [],
            "_model_name": "HBoxModel",
            "_view_module": "@jupyter-widgets/controls",
            "_model_module_version": "1.5.0",
            "_view_count": null,
            "_view_module_version": "1.5.0",
            "box_style": "",
            "layout": "IPY_MODEL_1e99f0ceee9a4cd19ab7afda3269db0c",
            "_model_module": "@jupyter-widgets/controls",
            "children": [
              "IPY_MODEL_b0837fab5c724e4ea958a3352e461933",
              "IPY_MODEL_192b1a05a09746b6bd151004d4acb2b1"
            ]
          }
        },
        "1e99f0ceee9a4cd19ab7afda3269db0c": {
          "model_module": "@jupyter-widgets/base",
          "model_name": "LayoutModel",
          "state": {
            "_view_name": "LayoutView",
            "grid_template_rows": null,
            "right": null,
            "justify_content": null,
            "_view_module": "@jupyter-widgets/base",
            "overflow": null,
            "_model_module_version": "1.2.0",
            "_view_count": null,
            "flex_flow": null,
            "width": null,
            "min_width": null,
            "border": null,
            "align_items": null,
            "bottom": null,
            "_model_module": "@jupyter-widgets/base",
            "top": null,
            "grid_column": null,
            "overflow_y": null,
            "overflow_x": null,
            "grid_auto_flow": null,
            "grid_area": null,
            "grid_template_columns": null,
            "flex": null,
            "_model_name": "LayoutModel",
            "justify_items": null,
            "grid_row": null,
            "max_height": null,
            "align_content": null,
            "visibility": null,
            "align_self": null,
            "height": null,
            "min_height": null,
            "padding": null,
            "grid_auto_rows": null,
            "grid_gap": null,
            "max_width": null,
            "order": null,
            "_view_module_version": "1.2.0",
            "grid_template_areas": null,
            "object_position": null,
            "object_fit": null,
            "grid_auto_columns": null,
            "margin": null,
            "display": null,
            "left": null
          }
        },
        "b0837fab5c724e4ea958a3352e461933": {
          "model_module": "@jupyter-widgets/controls",
          "model_name": "FloatProgressModel",
          "state": {
            "_view_name": "ProgressView",
            "style": "IPY_MODEL_d3dd897625cf4663a44638260f10e2b9",
            "_dom_classes": [],
            "description": "",
            "_model_name": "FloatProgressModel",
            "bar_style": "success",
            "max": 1,
            "_view_module": "@jupyter-widgets/controls",
            "_model_module_version": "1.5.0",
            "value": 1,
            "_view_count": null,
            "_view_module_version": "1.5.0",
            "orientation": "horizontal",
            "min": 0,
            "description_tooltip": null,
            "_model_module": "@jupyter-widgets/controls",
            "layout": "IPY_MODEL_15edf209d0a24701a0bde0ab2d1dfb1a"
          }
        },
        "192b1a05a09746b6bd151004d4acb2b1": {
          "model_module": "@jupyter-widgets/controls",
          "model_name": "HTMLModel",
          "state": {
            "_view_name": "HTMLView",
            "style": "IPY_MODEL_1b73e659926c47d29a879027265fbba4",
            "_dom_classes": [],
            "description": "",
            "_model_name": "HTMLModel",
            "placeholder": "​",
            "_view_module": "@jupyter-widgets/controls",
            "_model_module_version": "1.5.0",
            "value": " 32768/? [00:00&lt;00:00, 359720.98it/s]",
            "_view_count": null,
            "_view_module_version": "1.5.0",
            "description_tooltip": null,
            "_model_module": "@jupyter-widgets/controls",
            "layout": "IPY_MODEL_7cfc61e0a7704b88840c42cb332370c0"
          }
        },
        "d3dd897625cf4663a44638260f10e2b9": {
          "model_module": "@jupyter-widgets/controls",
          "model_name": "ProgressStyleModel",
          "state": {
            "_view_name": "StyleView",
            "_model_name": "ProgressStyleModel",
            "description_width": "initial",
            "_view_module": "@jupyter-widgets/base",
            "_model_module_version": "1.5.0",
            "_view_count": null,
            "_view_module_version": "1.2.0",
            "bar_color": null,
            "_model_module": "@jupyter-widgets/controls"
          }
        },
        "15edf209d0a24701a0bde0ab2d1dfb1a": {
          "model_module": "@jupyter-widgets/base",
          "model_name": "LayoutModel",
          "state": {
            "_view_name": "LayoutView",
            "grid_template_rows": null,
            "right": null,
            "justify_content": null,
            "_view_module": "@jupyter-widgets/base",
            "overflow": null,
            "_model_module_version": "1.2.0",
            "_view_count": null,
            "flex_flow": null,
            "width": null,
            "min_width": null,
            "border": null,
            "align_items": null,
            "bottom": null,
            "_model_module": "@jupyter-widgets/base",
            "top": null,
            "grid_column": null,
            "overflow_y": null,
            "overflow_x": null,
            "grid_auto_flow": null,
            "grid_area": null,
            "grid_template_columns": null,
            "flex": null,
            "_model_name": "LayoutModel",
            "justify_items": null,
            "grid_row": null,
            "max_height": null,
            "align_content": null,
            "visibility": null,
            "align_self": null,
            "height": null,
            "min_height": null,
            "padding": null,
            "grid_auto_rows": null,
            "grid_gap": null,
            "max_width": null,
            "order": null,
            "_view_module_version": "1.2.0",
            "grid_template_areas": null,
            "object_position": null,
            "object_fit": null,
            "grid_auto_columns": null,
            "margin": null,
            "display": null,
            "left": null
          }
        },
        "1b73e659926c47d29a879027265fbba4": {
          "model_module": "@jupyter-widgets/controls",
          "model_name": "DescriptionStyleModel",
          "state": {
            "_view_name": "StyleView",
            "_model_name": "DescriptionStyleModel",
            "description_width": "",
            "_view_module": "@jupyter-widgets/base",
            "_model_module_version": "1.5.0",
            "_view_count": null,
            "_view_module_version": "1.2.0",
            "_model_module": "@jupyter-widgets/controls"
          }
        },
        "7cfc61e0a7704b88840c42cb332370c0": {
          "model_module": "@jupyter-widgets/base",
          "model_name": "LayoutModel",
          "state": {
            "_view_name": "LayoutView",
            "grid_template_rows": null,
            "right": null,
            "justify_content": null,
            "_view_module": "@jupyter-widgets/base",
            "overflow": null,
            "_model_module_version": "1.2.0",
            "_view_count": null,
            "flex_flow": null,
            "width": null,
            "min_width": null,
            "border": null,
            "align_items": null,
            "bottom": null,
            "_model_module": "@jupyter-widgets/base",
            "top": null,
            "grid_column": null,
            "overflow_y": null,
            "overflow_x": null,
            "grid_auto_flow": null,
            "grid_area": null,
            "grid_template_columns": null,
            "flex": null,
            "_model_name": "LayoutModel",
            "justify_items": null,
            "grid_row": null,
            "max_height": null,
            "align_content": null,
            "visibility": null,
            "align_self": null,
            "height": null,
            "min_height": null,
            "padding": null,
            "grid_auto_rows": null,
            "grid_gap": null,
            "max_width": null,
            "order": null,
            "_view_module_version": "1.2.0",
            "grid_template_areas": null,
            "object_position": null,
            "object_fit": null,
            "grid_auto_columns": null,
            "margin": null,
            "display": null,
            "left": null
          }
        },
        "501a6f8897be4f45b99769de62f20d77": {
          "model_module": "@jupyter-widgets/controls",
          "model_name": "HBoxModel",
          "state": {
            "_view_name": "HBoxView",
            "_dom_classes": [],
            "_model_name": "HBoxModel",
            "_view_module": "@jupyter-widgets/controls",
            "_model_module_version": "1.5.0",
            "_view_count": null,
            "_view_module_version": "1.5.0",
            "box_style": "",
            "layout": "IPY_MODEL_66006dc2e7c6476c96d58d542b46d33d",
            "_model_module": "@jupyter-widgets/controls",
            "children": [
              "IPY_MODEL_4f3ddea31d7e4cbeb18f91bf2dd0924d",
              "IPY_MODEL_3005139ea3a740148bb21e578ebe7419"
            ]
          }
        },
        "66006dc2e7c6476c96d58d542b46d33d": {
          "model_module": "@jupyter-widgets/base",
          "model_name": "LayoutModel",
          "state": {
            "_view_name": "LayoutView",
            "grid_template_rows": null,
            "right": null,
            "justify_content": null,
            "_view_module": "@jupyter-widgets/base",
            "overflow": null,
            "_model_module_version": "1.2.0",
            "_view_count": null,
            "flex_flow": null,
            "width": null,
            "min_width": null,
            "border": null,
            "align_items": null,
            "bottom": null,
            "_model_module": "@jupyter-widgets/base",
            "top": null,
            "grid_column": null,
            "overflow_y": null,
            "overflow_x": null,
            "grid_auto_flow": null,
            "grid_area": null,
            "grid_template_columns": null,
            "flex": null,
            "_model_name": "LayoutModel",
            "justify_items": null,
            "grid_row": null,
            "max_height": null,
            "align_content": null,
            "visibility": null,
            "align_self": null,
            "height": null,
            "min_height": null,
            "padding": null,
            "grid_auto_rows": null,
            "grid_gap": null,
            "max_width": null,
            "order": null,
            "_view_module_version": "1.2.0",
            "grid_template_areas": null,
            "object_position": null,
            "object_fit": null,
            "grid_auto_columns": null,
            "margin": null,
            "display": null,
            "left": null
          }
        },
        "4f3ddea31d7e4cbeb18f91bf2dd0924d": {
          "model_module": "@jupyter-widgets/controls",
          "model_name": "FloatProgressModel",
          "state": {
            "_view_name": "ProgressView",
            "style": "IPY_MODEL_274ae4495976484e8807eb3a1f44d0d5",
            "_dom_classes": [],
            "description": "",
            "_model_name": "FloatProgressModel",
            "bar_style": "success",
            "max": 1,
            "_view_module": "@jupyter-widgets/controls",
            "_model_module_version": "1.5.0",
            "value": 1,
            "_view_count": null,
            "_view_module_version": "1.5.0",
            "orientation": "horizontal",
            "min": 0,
            "description_tooltip": null,
            "_model_module": "@jupyter-widgets/controls",
            "layout": "IPY_MODEL_4588d05c0dd345f9a84032be81e03b63"
          }
        },
        "3005139ea3a740148bb21e578ebe7419": {
          "model_module": "@jupyter-widgets/controls",
          "model_name": "HTMLModel",
          "state": {
            "_view_name": "HTMLView",
            "style": "IPY_MODEL_50ec022ec30c42448d80983bb2484019",
            "_dom_classes": [],
            "description": "",
            "_model_name": "HTMLModel",
            "placeholder": "​",
            "_view_module": "@jupyter-widgets/controls",
            "_model_module_version": "1.5.0",
            "value": " 1654784/? [00:03&lt;00:00, 469465.06it/s]",
            "_view_count": null,
            "_view_module_version": "1.5.0",
            "description_tooltip": null,
            "_model_module": "@jupyter-widgets/controls",
            "layout": "IPY_MODEL_b04648fd93584efa8848420fed9b339a"
          }
        },
        "274ae4495976484e8807eb3a1f44d0d5": {
          "model_module": "@jupyter-widgets/controls",
          "model_name": "ProgressStyleModel",
          "state": {
            "_view_name": "StyleView",
            "_model_name": "ProgressStyleModel",
            "description_width": "initial",
            "_view_module": "@jupyter-widgets/base",
            "_model_module_version": "1.5.0",
            "_view_count": null,
            "_view_module_version": "1.2.0",
            "bar_color": null,
            "_model_module": "@jupyter-widgets/controls"
          }
        },
        "4588d05c0dd345f9a84032be81e03b63": {
          "model_module": "@jupyter-widgets/base",
          "model_name": "LayoutModel",
          "state": {
            "_view_name": "LayoutView",
            "grid_template_rows": null,
            "right": null,
            "justify_content": null,
            "_view_module": "@jupyter-widgets/base",
            "overflow": null,
            "_model_module_version": "1.2.0",
            "_view_count": null,
            "flex_flow": null,
            "width": null,
            "min_width": null,
            "border": null,
            "align_items": null,
            "bottom": null,
            "_model_module": "@jupyter-widgets/base",
            "top": null,
            "grid_column": null,
            "overflow_y": null,
            "overflow_x": null,
            "grid_auto_flow": null,
            "grid_area": null,
            "grid_template_columns": null,
            "flex": null,
            "_model_name": "LayoutModel",
            "justify_items": null,
            "grid_row": null,
            "max_height": null,
            "align_content": null,
            "visibility": null,
            "align_self": null,
            "height": null,
            "min_height": null,
            "padding": null,
            "grid_auto_rows": null,
            "grid_gap": null,
            "max_width": null,
            "order": null,
            "_view_module_version": "1.2.0",
            "grid_template_areas": null,
            "object_position": null,
            "object_fit": null,
            "grid_auto_columns": null,
            "margin": null,
            "display": null,
            "left": null
          }
        },
        "50ec022ec30c42448d80983bb2484019": {
          "model_module": "@jupyter-widgets/controls",
          "model_name": "DescriptionStyleModel",
          "state": {
            "_view_name": "StyleView",
            "_model_name": "DescriptionStyleModel",
            "description_width": "",
            "_view_module": "@jupyter-widgets/base",
            "_model_module_version": "1.5.0",
            "_view_count": null,
            "_view_module_version": "1.2.0",
            "_model_module": "@jupyter-widgets/controls"
          }
        },
        "b04648fd93584efa8848420fed9b339a": {
          "model_module": "@jupyter-widgets/base",
          "model_name": "LayoutModel",
          "state": {
            "_view_name": "LayoutView",
            "grid_template_rows": null,
            "right": null,
            "justify_content": null,
            "_view_module": "@jupyter-widgets/base",
            "overflow": null,
            "_model_module_version": "1.2.0",
            "_view_count": null,
            "flex_flow": null,
            "width": null,
            "min_width": null,
            "border": null,
            "align_items": null,
            "bottom": null,
            "_model_module": "@jupyter-widgets/base",
            "top": null,
            "grid_column": null,
            "overflow_y": null,
            "overflow_x": null,
            "grid_auto_flow": null,
            "grid_area": null,
            "grid_template_columns": null,
            "flex": null,
            "_model_name": "LayoutModel",
            "justify_items": null,
            "grid_row": null,
            "max_height": null,
            "align_content": null,
            "visibility": null,
            "align_self": null,
            "height": null,
            "min_height": null,
            "padding": null,
            "grid_auto_rows": null,
            "grid_gap": null,
            "max_width": null,
            "order": null,
            "_view_module_version": "1.2.0",
            "grid_template_areas": null,
            "object_position": null,
            "object_fit": null,
            "grid_auto_columns": null,
            "margin": null,
            "display": null,
            "left": null
          }
        },
        "f420f1c0f60e4c97b45d2e52e4d59147": {
          "model_module": "@jupyter-widgets/controls",
          "model_name": "HBoxModel",
          "state": {
            "_view_name": "HBoxView",
            "_dom_classes": [],
            "_model_name": "HBoxModel",
            "_view_module": "@jupyter-widgets/controls",
            "_model_module_version": "1.5.0",
            "_view_count": null,
            "_view_module_version": "1.5.0",
            "box_style": "",
            "layout": "IPY_MODEL_fdedd632ba6341a9a6fe1daaae99dedf",
            "_model_module": "@jupyter-widgets/controls",
            "children": [
              "IPY_MODEL_29763c440c204c7ab2f3850f1668cc39",
              "IPY_MODEL_0f3b46d6553a427ea4ab174d969d0928"
            ]
          }
        },
        "fdedd632ba6341a9a6fe1daaae99dedf": {
          "model_module": "@jupyter-widgets/base",
          "model_name": "LayoutModel",
          "state": {
            "_view_name": "LayoutView",
            "grid_template_rows": null,
            "right": null,
            "justify_content": null,
            "_view_module": "@jupyter-widgets/base",
            "overflow": null,
            "_model_module_version": "1.2.0",
            "_view_count": null,
            "flex_flow": null,
            "width": null,
            "min_width": null,
            "border": null,
            "align_items": null,
            "bottom": null,
            "_model_module": "@jupyter-widgets/base",
            "top": null,
            "grid_column": null,
            "overflow_y": null,
            "overflow_x": null,
            "grid_auto_flow": null,
            "grid_area": null,
            "grid_template_columns": null,
            "flex": null,
            "_model_name": "LayoutModel",
            "justify_items": null,
            "grid_row": null,
            "max_height": null,
            "align_content": null,
            "visibility": null,
            "align_self": null,
            "height": null,
            "min_height": null,
            "padding": null,
            "grid_auto_rows": null,
            "grid_gap": null,
            "max_width": null,
            "order": null,
            "_view_module_version": "1.2.0",
            "grid_template_areas": null,
            "object_position": null,
            "object_fit": null,
            "grid_auto_columns": null,
            "margin": null,
            "display": null,
            "left": null
          }
        },
        "29763c440c204c7ab2f3850f1668cc39": {
          "model_module": "@jupyter-widgets/controls",
          "model_name": "FloatProgressModel",
          "state": {
            "_view_name": "ProgressView",
            "style": "IPY_MODEL_b06a00ca1df746b299dc1dede1d185ad",
            "_dom_classes": [],
            "description": "",
            "_model_name": "FloatProgressModel",
            "bar_style": "success",
            "max": 1,
            "_view_module": "@jupyter-widgets/controls",
            "_model_module_version": "1.5.0",
            "value": 1,
            "_view_count": null,
            "_view_module_version": "1.5.0",
            "orientation": "horizontal",
            "min": 0,
            "description_tooltip": null,
            "_model_module": "@jupyter-widgets/controls",
            "layout": "IPY_MODEL_362213b023d34e048e4f0aaaaaa170e8"
          }
        },
        "0f3b46d6553a427ea4ab174d969d0928": {
          "model_module": "@jupyter-widgets/controls",
          "model_name": "HTMLModel",
          "state": {
            "_view_name": "HTMLView",
            "style": "IPY_MODEL_e0411e09348e47f7924e11c26e81745d",
            "_dom_classes": [],
            "description": "",
            "_model_name": "HTMLModel",
            "placeholder": "​",
            "_view_module": "@jupyter-widgets/controls",
            "_model_module_version": "1.5.0",
            "value": " 8192/? [00:03&lt;00:00, 2511.01it/s]",
            "_view_count": null,
            "_view_module_version": "1.5.0",
            "description_tooltip": null,
            "_model_module": "@jupyter-widgets/controls",
            "layout": "IPY_MODEL_a96960ca01544cbdb0adea0195fd180a"
          }
        },
        "b06a00ca1df746b299dc1dede1d185ad": {
          "model_module": "@jupyter-widgets/controls",
          "model_name": "ProgressStyleModel",
          "state": {
            "_view_name": "StyleView",
            "_model_name": "ProgressStyleModel",
            "description_width": "initial",
            "_view_module": "@jupyter-widgets/base",
            "_model_module_version": "1.5.0",
            "_view_count": null,
            "_view_module_version": "1.2.0",
            "bar_color": null,
            "_model_module": "@jupyter-widgets/controls"
          }
        },
        "362213b023d34e048e4f0aaaaaa170e8": {
          "model_module": "@jupyter-widgets/base",
          "model_name": "LayoutModel",
          "state": {
            "_view_name": "LayoutView",
            "grid_template_rows": null,
            "right": null,
            "justify_content": null,
            "_view_module": "@jupyter-widgets/base",
            "overflow": null,
            "_model_module_version": "1.2.0",
            "_view_count": null,
            "flex_flow": null,
            "width": null,
            "min_width": null,
            "border": null,
            "align_items": null,
            "bottom": null,
            "_model_module": "@jupyter-widgets/base",
            "top": null,
            "grid_column": null,
            "overflow_y": null,
            "overflow_x": null,
            "grid_auto_flow": null,
            "grid_area": null,
            "grid_template_columns": null,
            "flex": null,
            "_model_name": "LayoutModel",
            "justify_items": null,
            "grid_row": null,
            "max_height": null,
            "align_content": null,
            "visibility": null,
            "align_self": null,
            "height": null,
            "min_height": null,
            "padding": null,
            "grid_auto_rows": null,
            "grid_gap": null,
            "max_width": null,
            "order": null,
            "_view_module_version": "1.2.0",
            "grid_template_areas": null,
            "object_position": null,
            "object_fit": null,
            "grid_auto_columns": null,
            "margin": null,
            "display": null,
            "left": null
          }
        },
        "e0411e09348e47f7924e11c26e81745d": {
          "model_module": "@jupyter-widgets/controls",
          "model_name": "DescriptionStyleModel",
          "state": {
            "_view_name": "StyleView",
            "_model_name": "DescriptionStyleModel",
            "description_width": "",
            "_view_module": "@jupyter-widgets/base",
            "_model_module_version": "1.5.0",
            "_view_count": null,
            "_view_module_version": "1.2.0",
            "_model_module": "@jupyter-widgets/controls"
          }
        },
        "a96960ca01544cbdb0adea0195fd180a": {
          "model_module": "@jupyter-widgets/base",
          "model_name": "LayoutModel",
          "state": {
            "_view_name": "LayoutView",
            "grid_template_rows": null,
            "right": null,
            "justify_content": null,
            "_view_module": "@jupyter-widgets/base",
            "overflow": null,
            "_model_module_version": "1.2.0",
            "_view_count": null,
            "flex_flow": null,
            "width": null,
            "min_width": null,
            "border": null,
            "align_items": null,
            "bottom": null,
            "_model_module": "@jupyter-widgets/base",
            "top": null,
            "grid_column": null,
            "overflow_y": null,
            "overflow_x": null,
            "grid_auto_flow": null,
            "grid_area": null,
            "grid_template_columns": null,
            "flex": null,
            "_model_name": "LayoutModel",
            "justify_items": null,
            "grid_row": null,
            "max_height": null,
            "align_content": null,
            "visibility": null,
            "align_self": null,
            "height": null,
            "min_height": null,
            "padding": null,
            "grid_auto_rows": null,
            "grid_gap": null,
            "max_width": null,
            "order": null,
            "_view_module_version": "1.2.0",
            "grid_template_areas": null,
            "object_position": null,
            "object_fit": null,
            "grid_auto_columns": null,
            "margin": null,
            "display": null,
            "left": null
          }
        }
      }
    }
  },
  "cells": [
    {
      "cell_type": "markdown",
      "metadata": {
        "id": "W6owH3k8uOMq"
      },
      "source": [
        "# Problem 1 - Variational Auto-Encoder (VAE)\n",
        "[![Open In Colab](https://colab.research.google.com/assets/colab-badge.svg)](https://colab.research.google.com/github/OpenReader/VAE-and-GAN/blob/main/CSCI566_Assignment2_problem_1_VAE.ipynb)\n",
        "\n",
        "\n",
        "Variational Auto-Encoders (VAEs) are a widely used class of generative models. They are simple to implement and, in contrast to other generative model classes like Generative Adversarial Networks (GANs, see Problem 2), they optimize an explicit maximum likelihood objective to train the model. Finally, their architecture makes them well-suited for unsupervised representation learning, i.e. learning low-dimensional representations of high-dimenionsal inputs, like images, with only self-supervised objectives (data reconstruction in the case of VAEs).\n",
        "\n",
        "![VAE_sketch.png](data:image/png;base64,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)\n",
        "*(image source: https://mlexplained.com/2017/12/28/an-intuitive-explanation-of-variational-autoencoders-vaes-part-1)*\n",
        "\n",
        "**By working on this problem you will learn and practice the following steps:**\n",
        "1. Set up a data loading pipeline in PyTorch.\n",
        "2. Implement, train and visualize an auto-encoder architecture.\n",
        "3. Extend your implementation to a variational auto-encoder.\n",
        "4. Learn how to tune the critical beta parameter of your VAE.\n",
        "5. Inspect the learned representation of your VAE.\n",
        "\n",
        "\n",
        "**Note**: For faster training of the models in this assignment you can use Colab with enabled GPU support. In Colab, navigate to \"Runtime\" --> \"Change Runtime Type\" and set the \"Hardware Accelerator\" to \"GPU\". "
      ]
    },
    {
      "cell_type": "markdown",
      "metadata": {
        "id": "53lY_6Giu_7o"
      },
      "source": [
        "# 1. MNIST Dataset\n",
        "\n",
        "We will perform all experiments for this problem using the [MNIST dataset](http://yann.lecun.com/exdb/mnist/), a standard dataset of handwritten digits. The main benefits of this dataset are that it is small and relatively easy to model. It therefore allows for quick experimentation and serves as initial test bed in many papers.\n",
        "\n",
        "Another benefit is that it is so widely used that PyTorch even provides functionality to automatically download it.\n",
        "\n",
        "Let's start by downloading the data and visualizing some samples."
      ]
    },
    {
      "cell_type": "code",
      "metadata": {
        "id": "QEq5AXeVlQSC"
      },
      "source": [
        "import matplotlib.pyplot as plt\n",
        "%matplotlib inline\n",
        "\n",
        "# for auto-reloading external modules\n",
        "# see http://stackoverflow.com/questions/1907993/autoreload-of-modules-in-ipython\n",
        "%load_ext autoreload\n",
        "%autoreload 2"
      ],
      "execution_count": 1,
      "outputs": []
    },
    {
      "cell_type": "code",
      "metadata": {
        "id": "Rdkn5v6WvNAa",
        "outputId": "6c598207-0709-4dd0-9247-ec3344bc6697",
        "colab": {
          "base_uri": "https://localhost:8080/",
          "height": 417,
          "referenced_widgets": [
            "ce8f2fafca6d4d4d8cf0278c0ddd964f",
            "7f0ad35e2c06451dbb003985533f526b",
            "ce1a22cb60c64a9ead9bb6f4b5fe628e",
            "4415de79f81a4b6994a626a5720d99bc",
            "02a41742355f407b837c4ba56e0c7550",
            "21b91e2f86c84a3b948af8536e91b48a",
            "cdf237e379f34b888864e144d38f6706",
            "943177f8db9740bcb0b1362d688c1762",
            "7903f7a5fc554a34af861c099d423ed7",
            "1e99f0ceee9a4cd19ab7afda3269db0c",
            "b0837fab5c724e4ea958a3352e461933",
            "192b1a05a09746b6bd151004d4acb2b1",
            "d3dd897625cf4663a44638260f10e2b9",
            "15edf209d0a24701a0bde0ab2d1dfb1a",
            "1b73e659926c47d29a879027265fbba4",
            "7cfc61e0a7704b88840c42cb332370c0",
            "501a6f8897be4f45b99769de62f20d77",
            "66006dc2e7c6476c96d58d542b46d33d",
            "4f3ddea31d7e4cbeb18f91bf2dd0924d",
            "3005139ea3a740148bb21e578ebe7419",
            "274ae4495976484e8807eb3a1f44d0d5",
            "4588d05c0dd345f9a84032be81e03b63",
            "50ec022ec30c42448d80983bb2484019",
            "b04648fd93584efa8848420fed9b339a",
            "f420f1c0f60e4c97b45d2e52e4d59147",
            "fdedd632ba6341a9a6fe1daaae99dedf",
            "29763c440c204c7ab2f3850f1668cc39",
            "0f3b46d6553a427ea4ab174d969d0928",
            "b06a00ca1df746b299dc1dede1d185ad",
            "362213b023d34e048e4f0aaaaaa170e8",
            "e0411e09348e47f7924e11c26e81745d",
            "a96960ca01544cbdb0adea0195fd180a"
          ]
        }
      },
      "source": [
        "import torch\n",
        "import torchvision\n",
        "\n",
        "# this will automatically download the MNIST training set\n",
        "mnist_train = torchvision.datasets.MNIST(root='./data', \n",
        "                                         train=True, \n",
        "                                         download=True, \n",
        "                                         transform=torchvision.transforms.ToTensor())\n",
        "print(\"\\n Download complete! Downloaded {} training examples!\".format(len(mnist_train)))"
      ],
      "execution_count": 2,
      "outputs": [
        {
          "output_type": "stream",
          "text": [
            "Downloading http://yann.lecun.com/exdb/mnist/train-images-idx3-ubyte.gz to ./data/MNIST/raw/train-images-idx3-ubyte.gz\n"
          ],
          "name": "stdout"
        },
        {
          "output_type": "display_data",
          "data": {
            "application/vnd.jupyter.widget-view+json": {
              "model_id": "ce8f2fafca6d4d4d8cf0278c0ddd964f",
              "version_minor": 0,
              "version_major": 2
            },
            "text/plain": [
              "HBox(children=(FloatProgress(value=1.0, bar_style='info', max=1.0), HTML(value='')))"
            ]
          },
          "metadata": {
            "tags": []
          }
        },
        {
          "output_type": "stream",
          "text": [
            "Extracting ./data/MNIST/raw/train-images-idx3-ubyte.gz to ./data/MNIST/raw\n",
            "Downloading http://yann.lecun.com/exdb/mnist/train-labels-idx1-ubyte.gz to ./data/MNIST/raw/train-labels-idx1-ubyte.gz\n"
          ],
          "name": "stdout"
        },
        {
          "output_type": "display_data",
          "data": {
            "application/vnd.jupyter.widget-view+json": {
              "model_id": "7903f7a5fc554a34af861c099d423ed7",
              "version_minor": 0,
              "version_major": 2
            },
            "text/plain": [
              "HBox(children=(FloatProgress(value=1.0, bar_style='info', max=1.0), HTML(value='')))"
            ]
          },
          "metadata": {
            "tags": []
          }
        },
        {
          "output_type": "stream",
          "text": [
            "Extracting ./data/MNIST/raw/train-labels-idx1-ubyte.gz to ./data/MNIST/raw\n",
            "Downloading http://yann.lecun.com/exdb/mnist/t10k-images-idx3-ubyte.gz to ./data/MNIST/raw/t10k-images-idx3-ubyte.gz\n",
            "\n"
          ],
          "name": "stdout"
        },
        {
          "output_type": "display_data",
          "data": {
            "application/vnd.jupyter.widget-view+json": {
              "model_id": "501a6f8897be4f45b99769de62f20d77",
              "version_minor": 0,
              "version_major": 2
            },
            "text/plain": [
              "HBox(children=(FloatProgress(value=1.0, bar_style='info', max=1.0), HTML(value='')))"
            ]
          },
          "metadata": {
            "tags": []
          }
        },
        {
          "output_type": "stream",
          "text": [
            "Extracting ./data/MNIST/raw/t10k-images-idx3-ubyte.gz to ./data/MNIST/raw\n",
            "Downloading http://yann.lecun.com/exdb/mnist/t10k-labels-idx1-ubyte.gz to ./data/MNIST/raw/t10k-labels-idx1-ubyte.gz\n"
          ],
          "name": "stdout"
        },
        {
          "output_type": "display_data",
          "data": {
            "application/vnd.jupyter.widget-view+json": {
              "model_id": "f420f1c0f60e4c97b45d2e52e4d59147",
              "version_minor": 0,
              "version_major": 2
            },
            "text/plain": [
              "HBox(children=(FloatProgress(value=1.0, bar_style='info', max=1.0), HTML(value='')))"
            ]
          },
          "metadata": {
            "tags": []
          }
        },
        {
          "output_type": "stream",
          "text": [
            "Extracting ./data/MNIST/raw/t10k-labels-idx1-ubyte.gz to ./data/MNIST/raw\n",
            "Processing...\n",
            "Done!\n",
            "\n",
            " Download complete! Downloaded 60000 training examples!\n"
          ],
          "name": "stdout"
        },
        {
          "output_type": "stream",
          "text": [
            "/usr/local/lib/python3.6/dist-packages/torchvision/datasets/mnist.py:469: UserWarning: The given NumPy array is not writeable, and PyTorch does not support non-writeable tensors. This means you can write to the underlying (supposedly non-writeable) NumPy array using the tensor. You may want to copy the array to protect its data or make it writeable before converting it to a tensor. This type of warning will be suppressed for the rest of this program. (Triggered internally at  /pytorch/torch/csrc/utils/tensor_numpy.cpp:141.)\n",
            "  return torch.from_numpy(parsed.astype(m[2], copy=False)).view(*s)\n"
          ],
          "name": "stderr"
        }
      ]
    },
    {
      "cell_type": "code",
      "metadata": {
        "id": "gVr1sOuWwk_F",
        "outputId": "68d6a52e-f7bb-4c73-f24f-75ffbe4df9b4",
        "colab": {
          "base_uri": "https://localhost:8080/",
          "height": 213
        }
      },
      "source": [
        "import matplotlib.pyplot as plt\n",
        "import numpy as np\n",
        "\n",
        "# Let's display some of the training samples.\n",
        "sample_images = []\n",
        "mnist_it = iter(mnist_train)  # create simple iterator, later we will use proper DataLoader\n",
        "for _ in range(5):\n",
        "  sample = next(mnist_it)     # samples a tuple (image, label)\n",
        "  sample_images.append(sample[0][0].data.cpu().numpy())\n",
        "\n",
        "fig = plt.figure(figsize = (10, 50))   \n",
        "ax1 = plt.subplot(111)\n",
        "ax1.imshow(np.concatenate(sample_images, axis=1), cmap='gray')\n",
        "plt.show()\n"
      ],
      "execution_count": 3,
      "outputs": [
        {
          "output_type": "stream",
          "text": [
            "\n",
            "\n",
            "\n"
          ],
          "name": "stdout"
        },
        {
          "output_type": "display_data",
          "data": {
            "image/png": "[encoded data removed]",
            "text/plain": [
              "<Figure size 720x3600 with 1 Axes>"
            ]
          },
          "metadata": {
            "tags": [],
            "needs_background": "light"
          }
        }
      ]
    },
    {
      "cell_type": "markdown",
      "metadata": {
        "id": "suPd0gyiuvvo"
      },
      "source": [
        "# 2. Auto-Encoder\n",
        "\n",
        "Before implementing the full VAE, we will first implement an **auto-encoder architecture**. Auto-encoders feature the same encoder-decoder architecture as VAEs and therefore also learn a low-dimensional representation of the input data without supervision. In contrast to VAEs they are **fully deterministic** models and do not employ variational inference for optimization.\n",
        "\n",
        "The **architecture** is very simple: we will encode the input image into a low-dimensional representation using a convolutional network with strided convolutions that reduce the image resolution in every layer. This results in a low-dimensional representation of the input image. This representation will get decoded back into the dimensionality of the input image using a convolutional decoder network that mirrors the architecture of the encoder. It employs transposed convolutions to increase the resolution of its input in every layer. The whole model is trained by **minimizing a reconstruction loss** between the input and the decoded image.\n",
        "\n",
        "Intuitively, the **auto-encoder needs to compress the information contained in the input image** into a much lower dimensional representation (e.g. 28x28=784px vs. 64 embedding dimensions for our MNIST model). This is possible since the information captured in the pixels is *highly redundant*. E.g. encoding an MNIST image requires <4 bits to encode which of the 10 possible digits is displayed and a few additional bits to capture information about shape and orientation. This is much less than the $255^{28\\cdot 28}$ bits of information that could be theoretically captured in the input image.\n",
        "\n",
        "Learning such a **compressed representation can make downstream task learning easier**. For example, learning to add two numbers based on the inferred digits is much easier than performing the task based on two piles of pixel values that depict the digits.\n",
        "\n",
        "In the following, we will first define the architecture of encoder and decoder and then train the auto-encoder model."
      ]
    },
    {
      "cell_type": "markdown",
      "metadata": {
        "id": "akSPKMJ0l3rD"
      },
      "source": [
        "## Defining the Auto-Encoder Architecture [6pt]"
      ]
    },
    {
      "cell_type": "code",
      "metadata": {
        "id": "rteiFTqfuvTu"
      },
      "source": [
        "import torch.nn as nn\n",
        "\n",
        "# Let's define encoder and decoder networks\n",
        "#####################################################################\n",
        "# Encoder Architecture:                                             #\n",
        "#   - Conv2d, hidden units: 32, output resolution: 14x14, kernel: 4 #\n",
        "#   - LeakyReLU                                                     #\n",
        "#   - Conv2d, hidden units: 64, output resolution: 7x7, kernel: 4   #\n",
        "#   - BatchNorm2d                                                   #\n",
        "#   - LeakyReLU                                                     #\n",
        "#   - Conv2d, hidden units: 128, output resolution: 3x3, kernel: 3  #\n",
        "#   - BatchNorm2d                                                   #\n",
        "#   - LeakyReLU                                                     #\n",
        "#   - Conv2d, hidden units: 256, output resolution: 1x1, kernel: 3  #\n",
        "#   - BatchNorm2d                                                   #\n",
        "#   - LeakyReLU                                                     #\n",
        "#   - Flatten                                                       #\n",
        "#   - Linear, output units: nz (= representation dimensionality)    #\n",
        "#####################################################################\n",
        "\n",
        "class Encoder(nn.Module):\n",
        "  def __init__(self, nz):\n",
        "    super().__init__()\n",
        "    ################################# TODO #########################################\n",
        "    # Create the network architecture using a nn.Sequential module wrapper.        #\n",
        "    # All convolutional layers should also learn a bias.                           #\n",
        "    # HINT: use the given information to compute stride and padding                #\n",
        "    #       for each convolutional layer. Verify the shapes of intermediate layers #\n",
        "    #       by running partial networks (with the next cell) and visualizing the   #\n",
        "    #       output shapes.                                                         #\n",
        "    ################################################################################\n",
        "    self.net = nn.Sequential(\n",
        "        nn.Conv2d(1, 32, 4, stride=2, padding=1, bias=True),\n",
        "        nn.LeakyReLU(32),\n",
        "        nn.Conv2d(32, 64, 4, stride=2, padding=1, bias=True),\n",
        "        nn.BatchNorm2d(64),\n",
        "        nn.LeakyReLU(),\n",
        "        nn.Conv2d(64, 128, 3, stride=2, bias=True),\n",
        "        nn.BatchNorm2d(128),\n",
        "        nn.LeakyReLU(),\n",
        "        nn.Conv2d(128, 256, 3, bias=True),\n",
        "        nn.BatchNorm2d(256),\n",
        "        nn.LeakyReLU(),\n",
        "        nn.Flatten(),\n",
        "        nn.Linear(256, nz)\n",
        "    )\n",
        "    ################################ END TODO #######################################\n",
        "  \n",
        "  def forward(self, x):\n",
        "    return self.net(x)\n",
        "\n",
        "\n",
        "#####################################################################\n",
        "# Decoder Architecture (mirrors encoder architecture):              #\n",
        "#   - Linear, output units: 256                                     #\n",
        "#   - Reshape, output shape: (256, 1, 1)                            #\n",
        "#   - BatchNorm2d                                                   #\n",
        "#   - LeakyReLU                                                     #\n",
        "#   - ConvT2d, hidden units: 128, output resolution: 3x3, kernel: 3 #\n",
        "#   - BatchNorm2d                                                   #\n",
        "#   - LeakyReLU                                                     #\n",
        "#   - ConvT2d, hidden units: 64, output resolution: 7x7, kernel: 3  #\n",
        "#   - ...                                                           #\n",
        "#   - ...                                                           #\n",
        "#   - ConvT2d, output units: 1, output resolution: 28x28, kernel: 4 #\n",
        "#   - Sigmoid (to limit output in range [0...1])                    #\n",
        "#####################################################################\n",
        "\n",
        "class Decoder(nn.Module):\n",
        "  def __init__(self, nz):\n",
        "    super().__init__()\n",
        "    ################################# TODO #########################################\n",
        "    # Create the network architecture using a nn.Sequential module wrapper.        #\n",
        "    # Again, all (transposed) convolutional layers should also learn a bias.       #\n",
        "    # We need to separate the intial linear layer into a separate variable since   #\n",
        "    # nn.Sequential does not support reshaping. Instead the \"Reshape\" is performed #\n",
        "    # in the forward() function below and does not need to be added to self.net    #\n",
        "    # HINT: use the class nn.ConvTranspose2d for the transposed convolutions.      #\n",
        "    #       Verify the shapes of intermediate layers by running partial networks   #\n",
        "    #       (using the next cell) and visualizing the output shapes.               #\n",
        "    ################################################################################\n",
        "    self.map = nn.Linear(nz, 256)   # for initial Linear layer\n",
        "    self.net = nn.Sequential(\n",
        "        nn.BatchNorm2d(256),\n",
        "        nn.LeakyReLU(),\n",
        "        nn.ConvTranspose2d(256, 128, 3, bias=True),\n",
        "        nn.BatchNorm2d(128),\n",
        "        nn.LeakyReLU(),\n",
        "        nn.ConvTranspose2d(128, 64, 3, stride=2, bias=True),\n",
        "        nn.BatchNorm2d(64),\n",
        "        nn.LeakyReLU(),\n",
        "        nn.ConvTranspose2d(64, 32, 4, stride=2, padding=1, bias=True),\n",
        "        nn.BatchNorm2d(32),\n",
        "        nn.LeakyReLU(),\n",
        "        nn.ConvTranspose2d(32, 1, 4, stride=2, padding=1, bias=True),\n",
        "        nn.Sigmoid()\n",
        "    )\n",
        "    ################################ END TODO #######################################\n",
        "  \n",
        "  def forward(self, x):\n",
        "    return self.net(self.map(x).reshape(-1, 256, 1, 1))"
      ],
      "execution_count": 4,
      "outputs": []
    },
    {
      "cell_type": "markdown",
      "metadata": {
        "id": "x0PKgbP4l-n8"
      },
      "source": [
        "## Testing the Auto-Encoder Forward Pass [1pt]"
      ]
    },
    {
      "cell_type": "code",
      "metadata": {
        "id": "-m9ur743t-22",
        "outputId": "299d1fef-178c-4ae4-b326-c00f4a9d63f0",
        "colab": {
          "base_uri": "https://localhost:8080/",
          "height": 50
        }
      },
      "source": [
        "# To test your encoder/decoder, let's encode/decode some sample images\n",
        "# first, make a PyTorch DataLoader object to sample data batches\n",
        "batch_size = 64\n",
        "nworkers = 4        # number of wrokers used for efficient data loading\n",
        "\n",
        "####################################### TODO #######################################\n",
        "# Create a PyTorch DataLoader object for efficiently generating training batches.  #\n",
        "# Make sure that the data loader automatically shuffles the training dataset.      #\n",
        "# HINT: The DataLoader wraps the MNIST dataset class we created earlier.           #\n",
        "#       Use the given batch_size and number of data loading workers when creating  #\n",
        "#       the DataLoader.                                                            #\n",
        "####################################################################################\n",
        "mnist_data_loader = torch.utils.data.DataLoader(mnist_train, batch_size,\n",
        "                                                shuffle=True, num_workers=nworkers)\n",
        "#################################### END TODO #######################################\n",
        "\n",
        "# now we can run a forward pass for encoder and decoder and check the produced shapes\n",
        "nz = 64          # dimensionality of the learned embedding\n",
        "encoder = Encoder(nz)\n",
        "decoder = Decoder(nz)\n",
        "for sample_img, sample_label in mnist_data_loader:\n",
        "  enc = encoder(sample_img)\n",
        "  print(\"Shape of encoding vector (should be [batch_size, nz]): {}\".format(enc.shape))\n",
        "  dec = decoder(enc)\n",
        "  print(\"Shape of decoded image (should be [batch_size, 1, 28, 28]): {}\".format(dec.shape))    \n",
        "  break"
      ],
      "execution_count": 8,
      "outputs": [
        {
          "output_type": "stream",
          "text": [
            "Shape of encoding vector (should be [batch_size, nz]): torch.Size([64, 64])\n",
            "Shape of decoded image (should be [batch_size, 1, 28, 28]): torch.Size([64, 1, 28, 28])\n"
          ],
          "name": "stdout"
        }
      ]
    },
    {
      "cell_type": "markdown",
      "metadata": {
        "id": "8ssk-NnNE9vO"
      },
      "source": [
        "Now that we defined encoder and decoder network our architecture is nearly complete. However, before we start training, we can wrap encoder and decoder into an auto-encoder class for easier handling."
      ]
    },
    {
      "cell_type": "code",
      "metadata": {
        "id": "LziabE_5E9IG"
      },
      "source": [
        "class AutoEncoder(nn.Module):\n",
        "  def __init__(self, nz):\n",
        "    super().__init__()\n",
        "    self.encoder = Encoder(nz)\n",
        "    self.decoder = Decoder(nz)\n",
        "\n",
        "  def forward(self, x):\n",
        "    return self.decoder(self.encoder(x))\n",
        "\n",
        "  def reconstruct(self, x):\n",
        "    \"\"\"Only used later for visualization.\"\"\"\n",
        "    return self.forward(x)"
      ],
      "execution_count": 6,
      "outputs": []
    },
    {
      "cell_type": "markdown",
      "metadata": {
        "id": "wo2rQhAVEYp3"
      },
      "source": [
        "## Setting up the Auto-Encoder Training Loop [6pt]\n",
        "After implementing the network architecture, we can now set up the training loop and run training."
      ]
    },
    {
      "cell_type": "code",
      "metadata": {
        "id": "7vWaTyoqEnWK",
        "outputId": "61c08c80-c721-46d1-8edf-d2b14da87a98",
        "colab": {
          "base_uri": "https://localhost:8080/",
          "height": 1000
        }
      },
      "source": [
        "epochs = 10\n",
        "learning_rate = 1e-3\n",
        "\n",
        "# build AE model\n",
        "device = torch.device('cuda:0' if torch.cuda.is_available() else 'cpu')   # use GPU if available\n",
        "ae_model = AutoEncoder(nz).to(device)    # transfer model to GPU if available\n",
        "ae_model = ae_model.train()   # set model in train mode (eg batchnorm params get updated)\n",
        "\n",
        "# build optimizer and loss function\n",
        "####################################### TODO #######################################\n",
        "# Create the optimizer and loss classes. For the loss you can use a loss layer     #\n",
        "# from the torch.nn package.                                                       #\n",
        "# HINT: We will use the Adam optimizer (learning rate given above, otherwise       #\n",
        "#       default parameters) and MSE loss for the criterion / loss.                 #\n",
        "# NOTE: We could also use alternative loss functions like cross entropy, depending #\n",
        "#       on the assumptions we are making about the output distribution. Here we    #\n",
        "#       will use MSE loss as it is the most common choice, assuming a Gaussian     #\n",
        "#       output distribution.                                                       #\n",
        "####################################################################################\n",
        "opt = torch.optim.Adam(ae_model.parameters(),lr=learning_rate)          # create optimizer instance\n",
        "criterion = nn.MSELoss()    # create loss layer instance\n",
        "#################################### END TODO #######################################\n",
        "\n",
        "train_it = 0\n",
        "for ep in range(epochs):\n",
        "  print(\"Run Epoch {}\".format(ep))\n",
        "  ####################################### TODO #######################################\n",
        "  # Implement the main training loop for the auto-encoder model.                     #\n",
        "  # HINT: Your training loop should sample batches from the data loader, run the     #\n",
        "  #       forward pass of the AE, compute the loss, perform the backward pass and    #\n",
        "  #       perform one gradient step with the optimizer.                              #\n",
        "  # HINT: Don't forget to erase old gradients before performing the backward pass.   #\n",
        "  ####################################################################################\n",
        "  for data in mnist_data_loader:\n",
        "    inputs = data[0].to(device)\n",
        "    opt.zero_grad()\n",
        "    outputs = ae_model(inputs)\n",
        "    rec_loss = criterion(outputs, inputs)\n",
        "    rec_loss.backward()\n",
        "    opt.step()\n",
        "    #################################### END TODO #####################################\n",
        "\n",
        "    if train_it % 100 == 0:\n",
        "      print(\"It {}: Reconstruction Loss: {}\".format(train_it, rec_loss))\n",
        "    train_it += 1\n",
        "  \n",
        "print(\"Done!\")"
      ],
      "execution_count": 7,
      "outputs": [
        {
          "output_type": "stream",
          "text": [
            "Run Epoch 0\n",
            "It 0: Reconstruction Loss: 0.31085309386253357\n",
            "It 100: Reconstruction Loss: 0.023677105084061623\n",
            "It 200: Reconstruction Loss: 0.017235247418284416\n",
            "It 300: Reconstruction Loss: 0.013648617081344128\n",
            "It 400: Reconstruction Loss: 0.011285834945738316\n",
            "It 500: Reconstruction Loss: 0.011882787570357323\n",
            "It 600: Reconstruction Loss: 0.011452569626271725\n",
            "It 700: Reconstruction Loss: 0.008898120373487473\n",
            "It 800: Reconstruction Loss: 0.009277256205677986\n",
            "It 900: Reconstruction Loss: 0.006815847009420395\n",
            "Run Epoch 1\n",
            "It 1000: Reconstruction Loss: 0.00715873297303915\n",
            "It 1100: Reconstruction Loss: 0.007703778333961964\n",
            "It 1200: Reconstruction Loss: 0.007358125876635313\n",
            "It 1300: Reconstruction Loss: 0.007763278670608997\n",
            "It 1400: Reconstruction Loss: 0.007171818055212498\n",
            "It 1500: Reconstruction Loss: 0.0077626267448067665\n",
            "It 1600: Reconstruction Loss: 0.005987504962831736\n",
            "It 1700: Reconstruction Loss: 0.006416856311261654\n",
            "It 1800: Reconstruction Loss: 0.007152540609240532\n",
            "Run Epoch 2\n",
            "It 1900: Reconstruction Loss: 0.005563464015722275\n",
            "It 2000: Reconstruction Loss: 0.0060280379839241505\n",
            "It 2100: Reconstruction Loss: 0.006892534904181957\n",
            "It 2200: Reconstruction Loss: 0.00616223830729723\n",
            "It 2300: Reconstruction Loss: 0.006478510331362486\n",
            "It 2400: Reconstruction Loss: 0.005882934667170048\n",
            "It 2500: Reconstruction Loss: 0.005729968193918467\n",
            "It 2600: Reconstruction Loss: 0.005618580151349306\n",
            "It 2700: Reconstruction Loss: 0.005831119138747454\n",
            "It 2800: Reconstruction Loss: 0.005438012070953846\n",
            "Run Epoch 3\n",
            "It 2900: Reconstruction Loss: 0.005381717346608639\n",
            "It 3000: Reconstruction Loss: 0.0051809558644890785\n",
            "It 3100: Reconstruction Loss: 0.005092340987175703\n",
            "It 3200: Reconstruction Loss: 0.005107921082526445\n",
            "It 3300: Reconstruction Loss: 0.005128758028149605\n",
            "It 3400: Reconstruction Loss: 0.004887045826762915\n",
            "It 3500: Reconstruction Loss: 0.005988415330648422\n",
            "It 3600: Reconstruction Loss: 0.004850659519433975\n",
            "It 3700: Reconstruction Loss: 0.00502932071685791\n",
            "Run Epoch 4\n",
            "It 3800: Reconstruction Loss: 0.0051182289607822895\n",
            "It 3900: Reconstruction Loss: 0.005197115708142519\n",
            "It 4000: Reconstruction Loss: 0.00450868159532547\n",
            "It 4100: Reconstruction Loss: 0.004708211403340101\n",
            "It 4200: Reconstruction Loss: 0.005473248660564423\n",
            "It 4300: Reconstruction Loss: 0.004837071057409048\n",
            "It 4400: Reconstruction Loss: 0.005262949503958225\n",
            "It 4500: Reconstruction Loss: 0.004827298689633608\n",
            "It 4600: Reconstruction Loss: 0.004854871425777674\n",
            "Run Epoch 5\n",
            "It 4700: Reconstruction Loss: 0.0047875698655843735\n",
            "It 4800: Reconstruction Loss: 0.0043741618283092976\n",
            "It 4900: Reconstruction Loss: 0.004699478391557932\n",
            "It 5000: Reconstruction Loss: 0.00450684130191803\n",
            "It 5100: Reconstruction Loss: 0.004701778292655945\n",
            "It 5200: Reconstruction Loss: 0.004676292184740305\n",
            "It 5300: Reconstruction Loss: 0.004248304758220911\n",
            "It 5400: Reconstruction Loss: 0.004948738031089306\n",
            "It 5500: Reconstruction Loss: 0.0046456241980195045\n",
            "It 5600: Reconstruction Loss: 0.004203374031931162\n",
            "Run Epoch 6\n",
            "It 5700: Reconstruction Loss: 0.004744290374219418\n",
            "It 5800: Reconstruction Loss: 0.004648048430681229\n",
            "It 5900: Reconstruction Loss: 0.004144717939198017\n",
            "It 6000: Reconstruction Loss: 0.004586893133819103\n",
            "It 6100: Reconstruction Loss: 0.007014162372797728\n",
            "It 6200: Reconstruction Loss: 0.004874628968536854\n",
            "It 6300: Reconstruction Loss: 0.004319002851843834\n",
            "It 6400: Reconstruction Loss: 0.00428002281114459\n",
            "It 6500: Reconstruction Loss: 0.004916445352137089\n",
            "Run Epoch 7\n",
            "It 6600: Reconstruction Loss: 0.00451995525509119\n",
            "It 6700: Reconstruction Loss: 0.003937081433832645\n",
            "It 6800: Reconstruction Loss: 0.00433045718818903\n",
            "It 6900: Reconstruction Loss: 0.0039355698972940445\n",
            "It 7000: Reconstruction Loss: 0.00466257706284523\n",
            "It 7100: Reconstruction Loss: 0.004037522245198488\n",
            "It 7200: Reconstruction Loss: 0.004314235411584377\n",
            "It 7300: Reconstruction Loss: 0.004522742237895727\n",
            "It 7400: Reconstruction Loss: 0.003766589565202594\n",
            "It 7500: Reconstruction Loss: 0.004400717094540596\n",
            "Run Epoch 8\n",
            "It 7600: Reconstruction Loss: 0.0041122352704405785\n",
            "It 7700: Reconstruction Loss: 0.004437352064996958\n",
            "It 7800: Reconstruction Loss: 0.003743137000128627\n",
            "It 7900: Reconstruction Loss: 0.004309403710067272\n",
            "It 8000: Reconstruction Loss: 0.004346832633018494\n",
            "It 8100: Reconstruction Loss: 0.003805303480476141\n",
            "It 8200: Reconstruction Loss: 0.0035182663705199957\n",
            "It 8300: Reconstruction Loss: 0.004558072425425053\n",
            "It 8400: Reconstruction Loss: 0.004369665868580341\n",
            "Run Epoch 9\n",
            "It 8500: Reconstruction Loss: 0.00435641361400485\n",
            "It 8600: Reconstruction Loss: 0.003866724669933319\n",
            "It 8700: Reconstruction Loss: 0.004024050664156675\n",
            "It 8800: Reconstruction Loss: 0.0043745799921453\n",
            "It 8900: Reconstruction Loss: 0.004805055912584066\n",
            "It 9000: Reconstruction Loss: 0.003920077811926603\n",
            "It 9100: Reconstruction Loss: 0.0035505378618836403\n",
            "It 9200: Reconstruction Loss: 0.003628617152571678\n",
            "It 9300: Reconstruction Loss: 0.0039310455322265625\n",
            "Done!\n"
          ],
          "name": "stdout"
        }
      ]
    },
    {
      "cell_type": "markdown",
      "metadata": {
        "id": "3blvOcuUnKpp"
      },
      "source": [
        "## Verifying reconstructions [0pt]\n",
        "Now that we trained the auto-encoder we can visualize some of the reconstructions on the test set to verify that it is converged and did not overfit. **Before continuing, make sure that your auto-encoder is able to reconstruct these samples near-perfectly.**"
      ]
    },
    {
      "cell_type": "code",
      "metadata": {
        "id": "HmbdWzLxHuXV",
        "outputId": "e78bd748-1072-4dc1-cbc8-d99260fe3d22",
        "colab": {
          "base_uri": "https://localhost:8080/",
          "height": 494
        }
      },
      "source": [
        "# visualize test data reconstructions\n",
        "def vis_reconstruction(model):\n",
        "  # download MNIST test set + build Dataset object\n",
        "  mnist_test = torchvision.datasets.MNIST(root='./data', \n",
        "                                          train=False, \n",
        "                                          download=True, \n",
        "                                          transform=torchvision.transforms.ToTensor())\n",
        "  mnist_test_iter = iter(mnist_test)\n",
        "  model.eval()      # set model in evalidation mode (eg freeze batchnorm params)\n",
        "  input_imgs, test_reconstructions = [], []\n",
        "  for _ in range(5):\n",
        "    input_img = np.asarray(next(mnist_test_iter)[0])\n",
        "    reconstruction = model.reconstruct(torch.tensor(input_img[None], device=device))\n",
        "    input_imgs.append(input_img[0])\n",
        "    test_reconstructions.append(reconstruction[0, 0].data.cpu().numpy())\n",
        "\n",
        "  fig = plt.figure(figsize = (20, 50))   \n",
        "  ax1 = plt.subplot(111)\n",
        "  ax1.imshow(np.concatenate([np.concatenate(input_imgs, axis=1),\n",
        "                            np.concatenate(test_reconstructions, axis=1)], axis=0), cmap='gray')\n",
        "  plt.show()\n",
        "\n",
        "vis_reconstruction(ae_model)"
      ],
      "execution_count": 9,
      "outputs": [
        {
          "output_type": "display_data",
          "data": {
            "image/png": "[encoded data removed]",
            "text/plain": [
              "<Figure size 1440x3600 with 1 Axes>"
            ]
          },
          "metadata": {
            "tags": [],
            "needs_background": "light"
          }
        }
      ]
    },
    {
      "cell_type": "markdown",
      "metadata": {
        "id": "i7UO6153nWmC"
      },
      "source": [
        "## Sampling from the Auto-Encoder [2pt]\n",
        "\n",
        "To test whether the auto-encoder is useful as a generative model, we can use it like any other generative model: draw embedding samples from a prior distribution and decode them through the decoder network. We will choose a unit Gaussian prior to allow for easy comparison to the VAE later."
      ]
    },
    {
      "cell_type": "code",
      "metadata": {
        "id": "tsWgAMfEn3Qk",
        "outputId": "f5b1f9ec-7425-4767-e358-11fc53f1bab2",
        "colab": {
          "base_uri": "https://localhost:8080/",
          "height": 593
        }
      },
      "source": [
        "# we will sample N embeddings, then decode and visualize them\n",
        "def vis_samples(model):\n",
        "  ####################################### TODO #######################################\n",
        "  # Sample embeddings from a diagonal unit Gaussian distribution and decode them     #\n",
        "  # using the model.                                                                 #\n",
        "  # HINT: The sampled embeddings should have shape [batch_size, nz]. Diagonal unit   #\n",
        "  #       Gaussians have mean 0 and a covariance matrix with ones on the diagonal    #\n",
        "  #       and zeros everywhere else.                                                 #\n",
        "  # HINT: If you are unsure whether you sampled the correct distribution, you can    #\n",
        "  #       sample a large batch and compute the empirical mean and variance using the #\n",
        "  #       .mean() and .var() functions.                                              #\n",
        "  # HINT: You can directly use model.decoder() to decode the samples.                #\n",
        "  ####################################################################################\n",
        "  m = torch.distributions.multivariate_normal.MultivariateNormal(torch.zeros(nz), torch.eye(nz))\n",
        "  sampled_embeddings = [m.sample().numpy() for i in range(batch_size)]    # sample batch of embedding from prior\n",
        "  decoded_samples = model.decoder(torch.tensor(sampled_embeddings).to(device))  # decoder output images for sampled embeddings\n",
        "  #################################### END TODO ######################################\n",
        "\n",
        "  fig = plt.figure(figsize = (10, 10))   \n",
        "  ax1 = plt.subplot(111)\n",
        "  ax1.imshow(torchvision.utils.make_grid(decoded_samples[:16], nrow=4, pad_value=1.)\\\n",
        "                .data.cpu().numpy().transpose(1, 2, 0), cmap='gray')\n",
        "  plt.show()\n",
        "\n",
        "vis_samples(ae_model)\n"
      ],
      "execution_count": 10,
      "outputs": [
        {
          "output_type": "display_data",
          "data": {
            "image/png": "[encoded data removed]",
            "text/plain": [
              "<Figure size 720x720 with 1 Axes>"
            ]
          },
          "metadata": {
            "tags": [],
            "needs_background": "light"
          }
        }
      ]
    },
    {
      "cell_type": "markdown",
      "metadata": {
        "id": "ExC5BXn3rbap"
      },
      "source": [
        ">**Inline Question: Describe your observations, why do you think they occur? [2pt]** \\\\\n",
        ">(please limit your answer to <150 words) \\\\\n",
        ">**Answer:** \n",
        "The output images generated by drawing embedding samples from a diagonal unit Gaussian distribution and decoding them through the decoder network are hard to recognize as clear handwritten digits, but only blurred outlines. I think this is because the diagonal unit Gaussian distribution we draw form has the same mean (0) and deviation (1) on each dimension. However, the embeddings that make sense could have specific mean and deviation on each dimension.\n"
      ]
    },
    {
      "cell_type": "markdown",
      "metadata": {
        "id": "oSUezleArhCI"
      },
      "source": [
        "# 3. Variational Auto-Encoder (VAE)\n",
        "\n",
        "Variational auto-encoders use a very similar architecture to deterministic auto-encoders, but are inherently storchastic models, i.e. we perform a stochastic sampling operation during the forward pass, leading to different different outputs every time we run the network for the same input. This sampling is required to optimize the VAE objective also known as the evidence lower bound (ELBO):\n",
        "\n",
        "$$\n",
        "p(x) > \\underbrace{\\mathbb{E}_{z\\sim q(z\\vert x)} p(x \\vert z)}_{\\text{reconstruction}} - \\underbrace{D_{\\text{KL}}\\big(q(z \\vert x), p(z)\\big)}_{\\text{prior divergence}}\n",
        "$$\n",
        "\n",
        "Here, $D_{\\text{KL}}(q, p)$ denotes the Kullback-Leibler (KL) divergence between the posterior distribution $q(z \\vert x)$, i.e. the output of our encoder, and $p(z)$, the prior over the embedding variable $z$, which we can choose freely.\n",
        "\n",
        "For simplicity, we will again choose a unit Gaussian prior. The left term is the reconstruction term we already know from training the auto-encoder. When assuming a Gaussian output distribution for both encoder $q(z \\vert x)$ and decoder $p(x \\vert z)$ the objective reduces to:\n",
        "\n",
        "$$\n",
        "\\mathcal{L}_{\\text{VAE}} = \\sum_{x\\sim \\mathcal{D}} (x - \\hat{x})^2 - \\beta \\cdot D_{\\text{KL}}\\big(\\mathcal{N}(\\mu_q, \\sigma_q), \\mathcal{N}(0, I)\\big)\n",
        "$$\n",
        "\n",
        "Here, $\\hat{x}$ is the reconstruction output of the decoder. In comparison to the auto-encoder objetive, the VAE adds a regularizing term between the output of the encoder and a chosen prior distribution, effectively forcing the encoder output to not stray too far from the prior during training. As a result the decoder gets trained with samples that look pretty similar to samples from the prior, which will hopefully allow us to generate better images when using the VAE as a generative model and actually feeding it samples from the prior (as we have done for the AE before).\n",
        "\n",
        "The coefficient $\\beta$ is a scalar weighting factor that trades off between reconstruction and regularization objective. We will investigate the influence of this factor in out experiments below.\n",
        "\n",
        "If you need a refresher on VAEs you can check out this tutorial paper: https://arxiv.org/abs/1606.05908\n",
        "\n",
        "### Reparametrization Trick\n",
        "\n",
        "The sampling procedure inside the VAE's forward pass for obtaining a sample $z$ from the posterior distribution $q(z \\vert x)$, when implemented naively, is non-differentiable. However, since $q(z\\vert x)$ is parametrized with a Gaussian function, there is a simple trick to obtain a differentiable sampling operator, known as the _reparametrization trick_.\n",
        "\n",
        "Instead of directly sampling $z \\sim \\mathcal{N}(\\mu_q, \\sigma_q)$ we can \"separate\" the network's predictions and the random sampling by computing the sample as:\n",
        "\n",
        "$$\n",
        "z = \\mu_q + \\sigma_q * \\epsilon , \\quad \\epsilon \\sim \\mathcal{N}(0, I)\n",
        "$$\n",
        "\n",
        "Note that in this equation, the sample $z$ is computed as a deterministic function of the network's predictions $\\mu_q$ and $\\sigma_q$ and therefore allows to propagate gradients through the sampling procedure.\n",
        "\n",
        "**Note**: While in the equations above the encoder network parametrizes the standard deviation $\\sigma_q$ of the Gaussian posterior distribution, in practice we usually parametrize the **logarithm of the standard deviation** $\\log \\sigma_q$ for numerical stability. Before sampling $z$ we will then exponentiate the network's output to obtain $\\sigma_q$.\n",
        "\n"
      ]
    },
    {
      "cell_type": "markdown",
      "metadata": {
        "id": "KSC7_Yy-n6-G"
      },
      "source": [
        "## Defining the VAE Model [7pt]"
      ]
    },
    {
      "cell_type": "code",
      "metadata": {
        "id": "qofk8oQ9tAxd"
      },
      "source": [
        "def kl_divergence(mu1, log_sigma1, mu2, log_sigma2):\n",
        "  \"\"\"Computes KL[p||q] between two Gaussians defined by [mu, log_sigma].\"\"\"\n",
        "  return (log_sigma2 - log_sigma1) + (torch.exp(log_sigma1) ** 2 + (mu1 - mu2) ** 2) \\\n",
        "               / (2 * torch.exp(log_sigma2) ** 2) - 0.5\n",
        "\n",
        "\n",
        "class VAE(nn.Module):\n",
        "  def __init__(self, nz, beta=1.0):\n",
        "    super().__init__()\n",
        "    self.beta = beta          # factor trading off between two loss components\n",
        "    ####################################### TODO #######################################\n",
        "    # Instantiate Encoder and Decoder.                                                 #\n",
        "    # HINT: Remember that the encoder is now parametrizing a Gaussian distribution's   #\n",
        "    #       mean and log_sigma, so the dimensionality of the output embedding needs to #\n",
        "    #       double.                                                                    #\n",
        "    ####################################################################################\n",
        "    self.nz = nz\n",
        "    self.encoder = Encoder(nz*2)\n",
        "    self.decoder = Decoder(nz)\n",
        "    #################################### END TODO ######################################\n",
        "\n",
        "  def forward(self, x):\n",
        "    ####################################### TODO #######################################\n",
        "    # Implement the forward pass of the VAE.                                           #\n",
        "    # HINT: Your code should implement the following steps:                            #\n",
        "    #          1. encode input x, split encoding into mean and log_sigma of Gaussian   #\n",
        "    #          2. sample z from inferred posterior distribution using                  #\n",
        "    #             reparametrization trick                                              #\n",
        "    #          3. decode the sampled z to obtain the reconstructed image               #\n",
        "    ####################################################################################\n",
        "    # encode input into posterior distribution q(z | x)\n",
        "    q = self.encoder(x)       # output of encoder (concatenated mean and log_sigma)\n",
        "\n",
        "    # sample latent variable z with reparametrization\n",
        "    mn = torch.distributions.multivariate_normal.MultivariateNormal(torch.zeros(self.nz), torch.eye(self.nz))\n",
        "    z = q[:, :self.nz] + mn.sample().to(device) * q[:, self.nz:]      # batch of sampled embeddings\n",
        "\n",
        "    # compute reconstruction\n",
        "    reconstruction = self.decoder(z)   # decoder reconstruction from embedding\n",
        "    #################################### END TODO ######################################\n",
        "\n",
        "    return {'q': q, \n",
        "            'rec': reconstruction}\n",
        "\n",
        "  def loss(self, x, outputs):\n",
        "    ####################################### TODO #######################################\n",
        "    # Implement the loss computation of the VAE.                                       #\n",
        "    # HINT: Your code should implement the following steps:                            #\n",
        "    #          1. compute the image reconstruction loss, similar to AE we use MSE loss #\n",
        "    #          2. compute the KL divergence loss between the inferred posterior        #\n",
        "    #             distribution and a unit Gaussian prior; you can use the provided     #\n",
        "    #             function above for computing the KL divergence between two Gaussians #\n",
        "    #             parametrized by mean and log_sigma                                   #\n",
        "    # HINT: Make sure to compute the KL divergence in the correct order since it is    #\n",
        "    #       not symmetric, ie. KL(p, q) != KL(q, p)!                                   #\n",
        "    ####################################################################################\n",
        "    # compute reconstruction loss\n",
        "    criterion = nn.MSELoss()\n",
        "    rec_loss = criterion(x['rec'], outputs)\n",
        "\n",
        "    # compute KL divergence loss\n",
        "    kl_loss = kl_divergence(x['q'][:, :self.nz], x['q'][:, self.nz:],\n",
        "                            torch.zeros(self.nz).to(device), torch.zeros(self.nz).to(device)).mean()      # make sure that this is a scalar, not a vector / array\n",
        "    #################################### END TODO ######################################\n",
        "\n",
        "    # return weihgted objective\n",
        "    return rec_loss + self.beta * kl_loss, \\\n",
        "           {'rec_loss': rec_loss, 'kl_loss': kl_loss}\n",
        "    \n",
        "  def reconstruct(self, x):\n",
        "    \"\"\"Use mean of posterior estimate for visualization reconstruction.\"\"\"\n",
        "    ####################################### TODO #######################################\n",
        "    # This function is used for visualizing reconstructions of our VAE model. To       #\n",
        "    # obtain the maximum likelihood estimate we bypass the sampling procedure of the   #\n",
        "    # inferred latent and instead directly use the mean of the inferred posterior.     #\n",
        "    # HINT: encode the input image and then decode the mean of the posterior to obtain #\n",
        "    #       the reconstruction.                                                        #\n",
        "    ####################################################################################\n",
        "    q = self.encoder(x)\n",
        "    reconstruction = self.decoder(q[:, :self.nz])\n",
        "    #################################### END TODO ######################################\n",
        "    return reconstruction\n"
      ],
      "execution_count": 25,
      "outputs": []
    },
    {
      "cell_type": "markdown",
      "metadata": {
        "id": "EPCQZr-s_INx"
      },
      "source": [
        "## Setting up the VAE Training Loop [4pt]\n",
        "\n",
        "Let's start training the VAE model! We will first verify our implementation by setting $\\beta = 0$.\n"
      ]
    },
    {
      "cell_type": "code",
      "metadata": {
        "id": "2StBTjj__HBU",
        "outputId": "7cd69e0a-010b-4331-fd6b-d4442e2b42e7",
        "colab": {
          "base_uri": "https://localhost:8080/",
          "height": 1000
        }
      },
      "source": [
        "learning_rate = 1e-3\n",
        "nz = 64\n",
        "\n",
        "####################################### TODO #######################################\n",
        "# Tune the beta parameter to obtain good VAE training results. However, for the    #\n",
        "# initial experiments leave beta = 0 in order to verify our implementation.        #\n",
        "####################################################################################\n",
        "epochs = 20         # using 5 epochs is sufficient for the first two experiments\n",
        "                   # for the experiment where you tune beta, 20 epochs are appropriate\n",
        "beta = 0.0001\n",
        "#################################### END TODO ######################################\n",
        "\n",
        "# build VAE model\n",
        "vae_model = VAE(nz, beta).to(device)    # transfer model to GPU if available\n",
        "vae_model = vae_model.train()   # set model in train mode (eg batchnorm params get updated)\n",
        "\n",
        "# build optimizer and loss function\n",
        "####################################### TODO #######################################\n",
        "# Build the optimizer for the vae_model. We will again use the Adam optimizer with #\n",
        "# the given learning rate and otherwise default parameters.                        #\n",
        "####################################################################################\n",
        "opt = torch.optim.Adam(vae_model.parameters(), lr=learning_rate)\n",
        "#################################### END TODO ######################################\n",
        "\n",
        "train_it = 0\n",
        "rec_loss, kl_loss = [], []\n",
        "for ep in range(epochs):\n",
        "  print(\"Run Epoch {}\".format(ep))\n",
        "  ####################################### TODO #######################################\n",
        "  # Implement the main training loop for the VAE model.                              #\n",
        "  # HINT: Your training loop should sample batches from the data loader, run the     #\n",
        "  #       forward pass of the VAE, compute the loss, perform the backward pass and   #\n",
        "  #       perform one gradient step with the optimizer.                              #\n",
        "  # HINT: Don't forget to erase old gradients before performing the backward pass.   #\n",
        "  # HINT: This time we will use the loss() function of our model for computing the   #\n",
        "  #       training loss. It outputs the total training loss and a dict containing    #\n",
        "  #       the breakdown of reconstruction and KL loss.                               #\n",
        "  ####################################################################################\n",
        "  for data in mnist_data_loader:\n",
        "    inputs = data[0].to(device)\n",
        "    opt.zero_grad()\n",
        "    outputs = vae_model(inputs)\n",
        "    total_loss, losses = vae_model.loss(outputs, inputs)\n",
        "    total_loss.backward()\n",
        "    opt.step()\n",
        "    #################################### END TODO ####################################\n",
        "\n",
        "    rec_loss.append(losses['rec_loss']); kl_loss.append(losses['kl_loss'])\n",
        "    if train_it % 100 == 0:\n",
        "      print(\"It {}: Total Loss: {}, \\t Rec Loss: {},\\t KL Loss: {}\"\\\n",
        "            .format(train_it, total_loss, losses['rec_loss'], losses['kl_loss']))\n",
        "    train_it += 1\n",
        "  \n",
        "print(\"Done!\")\n",
        "\n",
        "# log the loss training curves\n",
        "fig = plt.figure(figsize = (10, 5))   \n",
        "ax1 = plt.subplot(121)\n",
        "ax1.plot(rec_loss)\n",
        "ax1.title.set_text(\"Reconstruction Loss\")\n",
        "ax2 = plt.subplot(122)\n",
        "ax2.plot(kl_loss)\n",
        "ax2.title.set_text(\"KL Loss\")\n",
        "plt.show()"
      ],
      "execution_count": 48,
      "outputs": [
        {
          "output_type": "stream",
          "text": [
            "Run Epoch 0\n",
            "It 0: Total Loss: 0.2821017801761627, \t Rec Loss: 0.2820732593536377,\t KL Loss: 0.2852703928947449\n",
            "It 100: Total Loss: 0.02984320931136608, \t Rec Loss: 0.02979276515543461,\t KL Loss: 0.5044410824775696\n",
            "It 200: Total Loss: 0.018188191577792168, \t Rec Loss: 0.01813494600355625,\t KL Loss: 0.532463550567627\n",
            "It 300: Total Loss: 0.014375523664057255, \t Rec Loss: 0.01431649923324585,\t KL Loss: 0.5902419090270996\n",
            "It 400: Total Loss: 0.013279258273541927, \t Rec Loss: 0.013214490376412868,\t KL Loss: 0.6476758718490601\n",
            "It 500: Total Loss: 0.012734531424939632, \t Rec Loss: 0.012664838694036007,\t KL Loss: 0.6969246864318848\n",
            "It 600: Total Loss: 0.01094801165163517, \t Rec Loss: 0.010875715874135494,\t KL Loss: 0.7229539155960083\n",
            "It 700: Total Loss: 0.010425236076116562, \t Rec Loss: 0.010350894182920456,\t KL Loss: 0.7434203624725342\n",
            "It 800: Total Loss: 0.010523354634642601, \t Rec Loss: 0.010447153821587563,\t KL Loss: 0.7620106935501099\n",
            "It 900: Total Loss: 0.008998419158160686, \t Rec Loss: 0.00891911517828703,\t KL Loss: 0.7930390238761902\n",
            "Run Epoch 1\n",
            "It 1000: Total Loss: 0.0089571513235569, \t Rec Loss: 0.008876476436853409,\t KL Loss: 0.8067469596862793\n",
            "It 1100: Total Loss: 0.008217066526412964, \t Rec Loss: 0.008133936673402786,\t KL Loss: 0.8312954902648926\n",
            "It 1200: Total Loss: 0.0076147462241351604, \t Rec Loss: 0.0075332471169531345,\t KL Loss: 0.8149909377098083\n",
            "It 1300: Total Loss: 0.008630436845123768, \t Rec Loss: 0.008546197786927223,\t KL Loss: 0.8423890471458435\n",
            "It 1400: Total Loss: 0.0078115458600223064, \t Rec Loss: 0.00772528350353241,\t KL Loss: 0.8626254200935364\n",
            "It 1500: Total Loss: 0.008629490621387959, \t Rec Loss: 0.008540729060769081,\t KL Loss: 0.8876156806945801\n",
            "It 1600: Total Loss: 0.008582822978496552, \t Rec Loss: 0.008491389453411102,\t KL Loss: 0.9143370389938354\n",
            "It 1700: Total Loss: 0.007638139184564352, \t Rec Loss: 0.007545860484242439,\t KL Loss: 0.9227888584136963\n",
            "It 1800: Total Loss: 0.007173632271587849, \t Rec Loss: 0.007084914483129978,\t KL Loss: 0.8871766924858093\n",
            "Run Epoch 2\n",
            "It 1900: Total Loss: 0.008692781440913677, \t Rec Loss: 0.008600790984928608,\t KL Loss: 0.919904351234436\n",
            "It 2000: Total Loss: 0.00902571715414524, \t Rec Loss: 0.008931861259043217,\t KL Loss: 0.9385629296302795\n",
            "It 2100: Total Loss: 0.006065987981855869, \t Rec Loss: 0.005973010323941708,\t KL Loss: 0.9297769069671631\n",
            "It 2200: Total Loss: 0.006359636317938566, \t Rec Loss: 0.006267528049647808,\t KL Loss: 0.9210821390151978\n",
            "It 2300: Total Loss: 0.0071485997177660465, \t Rec Loss: 0.007051640655845404,\t KL Loss: 0.9695892333984375\n",
            "It 2400: Total Loss: 0.007048613391816616, \t Rec Loss: 0.0069517772644758224,\t KL Loss: 0.9683599472045898\n",
            "It 2500: Total Loss: 0.006583406589925289, \t Rec Loss: 0.006487506907433271,\t KL Loss: 0.9589958786964417\n",
            "It 2600: Total Loss: 0.006026898045092821, \t Rec Loss: 0.005930165760219097,\t KL Loss: 0.9673217535018921\n",
            "It 2700: Total Loss: 0.006735826842486858, \t Rec Loss: 0.006637034006416798,\t KL Loss: 0.9879280924797058\n",
            "It 2800: Total Loss: 0.006742914207279682, \t Rec Loss: 0.006643717642873526,\t KL Loss: 0.9919651746749878\n",
            "Run Epoch 3\n",
            "It 2900: Total Loss: 0.005887168925255537, \t Rec Loss: 0.005790557246655226,\t KL Loss: 0.966117799282074\n",
            "It 3000: Total Loss: 0.006874273531138897, \t Rec Loss: 0.0067726862616837025,\t KL Loss: 1.015871524810791\n",
            "It 3100: Total Loss: 0.006181525066494942, \t Rec Loss: 0.006081502418965101,\t KL Loss: 1.0002285242080688\n",
            "It 3200: Total Loss: 0.005744306370615959, \t Rec Loss: 0.005644760560244322,\t KL Loss: 0.9954568147659302\n",
            "It 3300: Total Loss: 0.006007755640894175, \t Rec Loss: 0.005906686186790466,\t KL Loss: 1.0106924772262573\n",
            "It 3400: Total Loss: 0.0058965072967112064, \t Rec Loss: 0.005794149357825518,\t KL Loss: 1.02358078956604\n",
            "It 3500: Total Loss: 0.005804369226098061, \t Rec Loss: 0.005704780109226704,\t KL Loss: 0.9958926439285278\n",
            "It 3600: Total Loss: 0.006406426429748535, \t Rec Loss: 0.006305002141743898,\t KL Loss: 1.0142415761947632\n",
            "It 3700: Total Loss: 0.006822962313890457, \t Rec Loss: 0.0067217545583844185,\t KL Loss: 1.0120782852172852\n",
            "Run Epoch 4\n",
            "It 3800: Total Loss: 0.005181367974728346, \t Rec Loss: 0.005083022173494101,\t KL Loss: 0.9834595322608948\n",
            "It 3900: Total Loss: 0.005829468369483948, \t Rec Loss: 0.005726451054215431,\t KL Loss: 1.0301737785339355\n",
            "It 4000: Total Loss: 0.005863871891051531, \t Rec Loss: 0.005762976128607988,\t KL Loss: 1.0089576244354248\n",
            "It 4100: Total Loss: 0.0058589838445186615, \t Rec Loss: 0.005755869206041098,\t KL Loss: 1.0311472415924072\n",
            "It 4200: Total Loss: 0.005626518279314041, \t Rec Loss: 0.005526439286768436,\t KL Loss: 1.000789761543274\n",
            "It 4300: Total Loss: 0.0060183703899383545, \t Rec Loss: 0.00591408321633935,\t KL Loss: 1.042873740196228\n",
            "It 4400: Total Loss: 0.005270287394523621, \t Rec Loss: 0.00516829127445817,\t KL Loss: 1.0199601650238037\n",
            "It 4500: Total Loss: 0.005268842913210392, \t Rec Loss: 0.005169578827917576,\t KL Loss: 0.9926390051841736\n",
            "It 4600: Total Loss: 0.005800290033221245, \t Rec Loss: 0.005697733256965876,\t KL Loss: 1.0255699157714844\n",
            "Run Epoch 5\n",
            "It 4700: Total Loss: 0.005540466867387295, \t Rec Loss: 0.0054399399086833,\t KL Loss: 1.0052690505981445\n",
            "It 4800: Total Loss: 0.006578002590686083, \t Rec Loss: 0.006476034875959158,\t KL Loss: 1.0196748971939087\n",
            "It 4900: Total Loss: 0.006043609697371721, \t Rec Loss: 0.005940583068877459,\t KL Loss: 1.0302672386169434\n",
            "It 5000: Total Loss: 0.004934527911245823, \t Rec Loss: 0.004836541134864092,\t KL Loss: 0.979866623878479\n",
            "It 5100: Total Loss: 0.004947422072291374, \t Rec Loss: 0.004849500488489866,\t KL Loss: 0.9792149662971497\n",
            "It 5200: Total Loss: 0.004956271965056658, \t Rec Loss: 0.004852906800806522,\t KL Loss: 1.033650517463684\n",
            "It 5300: Total Loss: 0.005326166749000549, \t Rec Loss: 0.005226388107985258,\t KL Loss: 0.997787594795227\n",
            "It 5400: Total Loss: 0.004940914921462536, \t Rec Loss: 0.004843658767640591,\t KL Loss: 0.9725630283355713\n",
            "It 5500: Total Loss: 0.004610199015587568, \t Rec Loss: 0.004513623658567667,\t KL Loss: 0.9657524228096008\n",
            "It 5600: Total Loss: 0.005922329146414995, \t Rec Loss: 0.0058242641389369965,\t KL Loss: 0.9806522130966187\n",
            "Run Epoch 6\n",
            "It 5700: Total Loss: 0.004678713157773018, \t Rec Loss: 0.00458147656172514,\t KL Loss: 0.9723650217056274\n",
            "It 5800: Total Loss: 0.004653519485145807, \t Rec Loss: 0.004558754153549671,\t KL Loss: 0.9476547241210938\n",
            "It 5900: Total Loss: 0.005463508423417807, \t Rec Loss: 0.005363361909985542,\t KL Loss: 1.0014652013778687\n",
            "It 6000: Total Loss: 0.005015269853174686, \t Rec Loss: 0.004918096121400595,\t KL Loss: 0.9717392921447754\n",
            "It 6100: Total Loss: 0.004697965458035469, \t Rec Loss: 0.004600028973072767,\t KL Loss: 0.9793645143508911\n",
            "It 6200: Total Loss: 0.004685831721872091, \t Rec Loss: 0.004591650795191526,\t KL Loss: 0.9418109655380249\n",
            "It 6300: Total Loss: 0.004486626945436001, \t Rec Loss: 0.004390723071992397,\t KL Loss: 0.9590376615524292\n",
            "It 6400: Total Loss: 0.005559831857681274, \t Rec Loss: 0.005461869761347771,\t KL Loss: 0.9796208143234253\n",
            "It 6500: Total Loss: 0.004547312390059233, \t Rec Loss: 0.004451763350516558,\t KL Loss: 0.955492377281189\n",
            "Run Epoch 7\n",
            "It 6600: Total Loss: 0.0048832762986421585, \t Rec Loss: 0.004786595702171326,\t KL Loss: 0.9668045043945312\n",
            "It 6700: Total Loss: 0.004409315530210733, \t Rec Loss: 0.004314092453569174,\t KL Loss: 0.9522292613983154\n",
            "It 6800: Total Loss: 0.005404381081461906, \t Rec Loss: 0.00530650420114398,\t KL Loss: 0.9787678718566895\n",
            "It 6900: Total Loss: 0.004802634473890066, \t Rec Loss: 0.0047062719240784645,\t KL Loss: 0.9636235237121582\n",
            "It 7000: Total Loss: 0.005054475273936987, \t Rec Loss: 0.004957020282745361,\t KL Loss: 0.9745479822158813\n",
            "It 7100: Total Loss: 0.00456372881308198, \t Rec Loss: 0.004471569787710905,\t KL Loss: 0.92159104347229\n",
            "It 7200: Total Loss: 0.005861908197402954, \t Rec Loss: 0.005769328214228153,\t KL Loss: 0.9258009195327759\n",
            "It 7300: Total Loss: 0.005151203367859125, \t Rec Loss: 0.005057839676737785,\t KL Loss: 0.9336355328559875\n",
            "It 7400: Total Loss: 0.004683310631662607, \t Rec Loss: 0.004590549971908331,\t KL Loss: 0.9276073575019836\n",
            "It 7500: Total Loss: 0.004462821874767542, \t Rec Loss: 0.004373847972601652,\t KL Loss: 0.889739990234375\n",
            "Run Epoch 8\n",
            "It 7600: Total Loss: 0.004723616410046816, \t Rec Loss: 0.004630155395716429,\t KL Loss: 0.9346095323562622\n",
            "It 7700: Total Loss: 0.005117060616612434, \t Rec Loss: 0.005024816375225782,\t KL Loss: 0.9224439859390259\n",
            "It 7800: Total Loss: 0.004339580424129963, \t Rec Loss: 0.0042518931441009045,\t KL Loss: 0.8768707513809204\n",
            "It 7900: Total Loss: 0.005144019611179829, \t Rec Loss: 0.005050002597272396,\t KL Loss: 0.9401721358299255\n",
            "It 8000: Total Loss: 0.004270453937351704, \t Rec Loss: 0.004179928917437792,\t KL Loss: 0.9052521586418152\n",
            "It 8100: Total Loss: 0.004280861932784319, \t Rec Loss: 0.004193358588963747,\t KL Loss: 0.8750313520431519\n",
            "It 8200: Total Loss: 0.0047007398679852486, \t Rec Loss: 0.00461060693487525,\t KL Loss: 0.9013274908065796\n",
            "It 8300: Total Loss: 0.004770460072904825, \t Rec Loss: 0.004682840313762426,\t KL Loss: 0.8761990070343018\n",
            "It 8400: Total Loss: 0.004349679220467806, \t Rec Loss: 0.0042622084729373455,\t KL Loss: 0.8747057914733887\n",
            "Run Epoch 9\n",
            "It 8500: Total Loss: 0.0039664641954004765, \t Rec Loss: 0.00388001324608922,\t KL Loss: 0.864509105682373\n",
            "It 8600: Total Loss: 0.004352653864771128, \t Rec Loss: 0.0042652771808207035,\t KL Loss: 0.8737674951553345\n",
            "It 8700: Total Loss: 0.004771505948156118, \t Rec Loss: 0.004684410523623228,\t KL Loss: 0.8709526062011719\n",
            "It 8800: Total Loss: 0.004123535472899675, \t Rec Loss: 0.00403436878696084,\t KL Loss: 0.8916687965393066\n",
            "It 8900: Total Loss: 0.0038495073094964027, \t Rec Loss: 0.0037640624213963747,\t KL Loss: 0.8544492721557617\n",
            "It 9000: Total Loss: 0.005189197603613138, \t Rec Loss: 0.005102829542011023,\t KL Loss: 0.8636810779571533\n",
            "It 9100: Total Loss: 0.004597917199134827, \t Rec Loss: 0.00451209582388401,\t KL Loss: 0.8582115173339844\n",
            "It 9200: Total Loss: 0.004728742875158787, \t Rec Loss: 0.004645627457648516,\t KL Loss: 0.8311520218849182\n",
            "It 9300: Total Loss: 0.004674277268350124, \t Rec Loss: 0.004590143449604511,\t KL Loss: 0.841338038444519\n",
            "Run Epoch 10\n",
            "It 9400: Total Loss: 0.004525653086602688, \t Rec Loss: 0.004442096687853336,\t KL Loss: 0.8355622291564941\n",
            "It 9500: Total Loss: 0.00405310932546854, \t Rec Loss: 0.003969497513025999,\t KL Loss: 0.836117148399353\n",
            "It 9600: Total Loss: 0.004439147654920816, \t Rec Loss: 0.004354292526841164,\t KL Loss: 0.848552405834198\n",
            "It 9700: Total Loss: 0.004527995362877846, \t Rec Loss: 0.004444827791303396,\t KL Loss: 0.831678032875061\n",
            "It 9800: Total Loss: 0.004216598346829414, \t Rec Loss: 0.004136265255510807,\t KL Loss: 0.8033304214477539\n",
            "It 9900: Total Loss: 0.004407655447721481, \t Rec Loss: 0.004328116774559021,\t KL Loss: 0.7953848838806152\n",
            "It 10000: Total Loss: 0.003589375875890255, \t Rec Loss: 0.003510524984449148,\t KL Loss: 0.7885083556175232\n",
            "It 10100: Total Loss: 0.004436240531504154, \t Rec Loss: 0.004355309996753931,\t KL Loss: 0.8093050718307495\n",
            "It 10200: Total Loss: 0.004632412455976009, \t Rec Loss: 0.004551439546048641,\t KL Loss: 0.8097306489944458\n",
            "It 10300: Total Loss: 0.00466544646769762, \t Rec Loss: 0.00458561023697257,\t KL Loss: 0.798363208770752\n",
            "Run Epoch 11\n",
            "It 10400: Total Loss: 0.0043639130890369415, \t Rec Loss: 0.004285373724997044,\t KL Loss: 0.7853928804397583\n",
            "It 10500: Total Loss: 0.0040056114085018635, \t Rec Loss: 0.003926509991288185,\t KL Loss: 0.7910126447677612\n",
            "It 10600: Total Loss: 0.004457603674381971, \t Rec Loss: 0.004382286220788956,\t KL Loss: 0.7531752586364746\n",
            "It 10700: Total Loss: 0.004248202778398991, \t Rec Loss: 0.004171726759523153,\t KL Loss: 0.764758825302124\n",
            "It 10800: Total Loss: 0.004540969617664814, \t Rec Loss: 0.004464959725737572,\t KL Loss: 0.7601000070571899\n",
            "It 10900: Total Loss: 0.005287270527333021, \t Rec Loss: 0.005210030823945999,\t KL Loss: 0.7723987102508545\n",
            "It 11000: Total Loss: 0.0038450132124125957, \t Rec Loss: 0.0037714228965342045,\t KL Loss: 0.7359023690223694\n",
            "It 11100: Total Loss: 0.00417711166664958, \t Rec Loss: 0.004102409351617098,\t KL Loss: 0.7470239400863647\n",
            "It 11200: Total Loss: 0.004608492366969585, \t Rec Loss: 0.004531914833933115,\t KL Loss: 0.7657730579376221\n",
            "Run Epoch 12\n",
            "It 11300: Total Loss: 0.0039641461335122585, \t Rec Loss: 0.003889984218403697,\t KL Loss: 0.74161696434021\n",
            "It 11400: Total Loss: 0.004354153294116259, \t Rec Loss: 0.004280130844563246,\t KL Loss: 0.7402267456054688\n",
            "It 11500: Total Loss: 0.0042434390634298325, \t Rec Loss: 0.004170084837824106,\t KL Loss: 0.7335399389266968\n",
            "It 11600: Total Loss: 0.004255159758031368, \t Rec Loss: 0.004183413460850716,\t KL Loss: 0.717464029788971\n",
            "It 11700: Total Loss: 0.0037601131480187178, \t Rec Loss: 0.0036891920026391745,\t KL Loss: 0.709210991859436\n",
            "It 11800: Total Loss: 0.004286868963390589, \t Rec Loss: 0.004216829314827919,\t KL Loss: 0.7003955841064453\n",
            "It 11900: Total Loss: 0.0032762805931270123, \t Rec Loss: 0.0032080819364637136,\t KL Loss: 0.6819872856140137\n",
            "It 12000: Total Loss: 0.0037069590762257576, \t Rec Loss: 0.0036377187352627516,\t KL Loss: 0.6924043893814087\n",
            "It 12100: Total Loss: 0.00431348942220211, \t Rec Loss: 0.004242657218128443,\t KL Loss: 0.7083225250244141\n",
            "Run Epoch 13\n",
            "It 12200: Total Loss: 0.004507509060204029, \t Rec Loss: 0.004438118077814579,\t KL Loss: 0.6939077377319336\n",
            "It 12300: Total Loss: 0.0042640333995223045, \t Rec Loss: 0.0041944063268601894,\t KL Loss: 0.6962697505950928\n",
            "It 12400: Total Loss: 0.004227627534419298, \t Rec Loss: 0.004158038180321455,\t KL Loss: 0.695894718170166\n",
            "It 12500: Total Loss: 0.0038758465088903904, \t Rec Loss: 0.003806021763011813,\t KL Loss: 0.698246955871582\n",
            "It 12600: Total Loss: 0.0036258737090975046, \t Rec Loss: 0.0035554657224565744,\t KL Loss: 0.7040796279907227\n",
            "It 12700: Total Loss: 0.003622990334406495, \t Rec Loss: 0.003555848728865385,\t KL Loss: 0.6714168787002563\n",
            "It 12800: Total Loss: 0.0036438663955777884, \t Rec Loss: 0.0035787136293947697,\t KL Loss: 0.6515268683433533\n",
            "It 12900: Total Loss: 0.003854861482977867, \t Rec Loss: 0.003787637921050191,\t KL Loss: 0.6722357273101807\n",
            "It 13000: Total Loss: 0.004391803406178951, \t Rec Loss: 0.004324403125792742,\t KL Loss: 0.674001932144165\n",
            "It 13100: Total Loss: 0.005247886758297682, \t Rec Loss: 0.005182846449315548,\t KL Loss: 0.6504021883010864\n",
            "Run Epoch 14\n",
            "It 13200: Total Loss: 0.0038136662915349007, \t Rec Loss: 0.003747708862647414,\t KL Loss: 0.6595735549926758\n",
            "It 13300: Total Loss: 0.003588673658668995, \t Rec Loss: 0.0035239795688539743,\t KL Loss: 0.6469416618347168\n",
            "It 13400: Total Loss: 0.0038533019833266735, \t Rec Loss: 0.003787353867664933,\t KL Loss: 0.6594812870025635\n",
            "It 13500: Total Loss: 0.0037887052167207003, \t Rec Loss: 0.0037254118360579014,\t KL Loss: 0.6329337358474731\n",
            "It 13600: Total Loss: 0.0037410305812954903, \t Rec Loss: 0.0036761080846190453,\t KL Loss: 0.6492242813110352\n",
            "It 13700: Total Loss: 0.004104644525796175, \t Rec Loss: 0.0040405080653727055,\t KL Loss: 0.6413631439208984\n",
            "It 13800: Total Loss: 0.004459853749722242, \t Rec Loss: 0.004395514726638794,\t KL Loss: 0.643391489982605\n",
            "It 13900: Total Loss: 0.0032523362897336483, \t Rec Loss: 0.0031918296590447426,\t KL Loss: 0.6050668954849243\n",
            "It 14000: Total Loss: 0.0036071750801056623, \t Rec Loss: 0.0035457550548017025,\t KL Loss: 0.6141993403434753\n",
            "Run Epoch 15\n",
            "It 14100: Total Loss: 0.004172443877905607, \t Rec Loss: 0.004110508598387241,\t KL Loss: 0.6193513870239258\n",
            "It 14200: Total Loss: 0.003938046749681234, \t Rec Loss: 0.003876937786117196,\t KL Loss: 0.6110886931419373\n",
            "It 14300: Total Loss: 0.003166242502629757, \t Rec Loss: 0.0031058513559401035,\t KL Loss: 0.6039125919342041\n",
            "It 14400: Total Loss: 0.0034150301944464445, \t Rec Loss: 0.003355670254677534,\t KL Loss: 0.5935993194580078\n",
            "It 14500: Total Loss: 0.00406023720279336, \t Rec Loss: 0.004001061897724867,\t KL Loss: 0.5917531847953796\n",
            "It 14600: Total Loss: 0.003840043907985091, \t Rec Loss: 0.003780712140724063,\t KL Loss: 0.5933168530464172\n",
            "It 14700: Total Loss: 0.00361948786303401, \t Rec Loss: 0.0035617551766335964,\t KL Loss: 0.5773268938064575\n",
            "It 14800: Total Loss: 0.003509435337036848, \t Rec Loss: 0.0034513443242758512,\t KL Loss: 0.5809091925621033\n",
            "It 14900: Total Loss: 0.0036190240643918514, \t Rec Loss: 0.003562305588275194,\t KL Loss: 0.5671839714050293\n",
            "It 15000: Total Loss: 0.0037969881668686867, \t Rec Loss: 0.0037395497784018517,\t KL Loss: 0.5743841528892517\n",
            "Run Epoch 16\n",
            "It 15100: Total Loss: 0.0035853381268680096, \t Rec Loss: 0.0035289220977574587,\t KL Loss: 0.564159631729126\n",
            "It 15200: Total Loss: 0.003590781707316637, \t Rec Loss: 0.0035362583585083485,\t KL Loss: 0.545233428478241\n",
            "It 15300: Total Loss: 0.0038446439430117607, \t Rec Loss: 0.0037896085996180773,\t KL Loss: 0.5503532290458679\n",
            "It 15400: Total Loss: 0.003222014755010605, \t Rec Loss: 0.0031669833697378635,\t KL Loss: 0.5503144264221191\n",
            "It 15500: Total Loss: 0.003919845446944237, \t Rec Loss: 0.003863096237182617,\t KL Loss: 0.5674905776977539\n",
            "It 15600: Total Loss: 0.0040040588937699795, \t Rec Loss: 0.003948982339352369,\t KL Loss: 0.5507678389549255\n",
            "It 15700: Total Loss: 0.003784462111070752, \t Rec Loss: 0.0037310791667550802,\t KL Loss: 0.5338297486305237\n",
            "It 15800: Total Loss: 0.003909445833414793, \t Rec Loss: 0.0038556887302547693,\t KL Loss: 0.5375696420669556\n",
            "It 15900: Total Loss: 0.0038263010792434216, \t Rec Loss: 0.003772372379899025,\t KL Loss: 0.5392879247665405\n",
            "Run Epoch 17\n",
            "It 16000: Total Loss: 0.003592527937144041, \t Rec Loss: 0.0035395727027207613,\t KL Loss: 0.5295524001121521\n",
            "It 16100: Total Loss: 0.003840541699901223, \t Rec Loss: 0.0037864793557673693,\t KL Loss: 0.5406235456466675\n",
            "It 16200: Total Loss: 0.003365321783348918, \t Rec Loss: 0.0033126752823591232,\t KL Loss: 0.5264661312103271\n",
            "It 16300: Total Loss: 0.003204816021025181, \t Rec Loss: 0.0031551651190966368,\t KL Loss: 0.4965101480484009\n",
            "It 16400: Total Loss: 0.0036584523040801287, \t Rec Loss: 0.0036065389867872,\t KL Loss: 0.5191323757171631\n",
            "It 16500: Total Loss: 0.0036613265983760357, \t Rec Loss: 0.0036104267928749323,\t KL Loss: 0.5089990496635437\n",
            "It 16600: Total Loss: 0.0040904139168560505, \t Rec Loss: 0.0040380326099693775,\t KL Loss: 0.5238125324249268\n",
            "It 16700: Total Loss: 0.0037221938837319613, \t Rec Loss: 0.0036696763709187508,\t KL Loss: 0.525175929069519\n",
            "It 16800: Total Loss: 0.003362408373504877, \t Rec Loss: 0.003312292043119669,\t KL Loss: 0.5011633634567261\n",
            "Run Epoch 18\n",
            "It 16900: Total Loss: 0.0034838090650737286, \t Rec Loss: 0.0034337113611400127,\t KL Loss: 0.5009769797325134\n",
            "It 17000: Total Loss: 0.0030752995517104864, \t Rec Loss: 0.003026185790076852,\t KL Loss: 0.4911379814147949\n",
            "It 17100: Total Loss: 0.0035547337029129267, \t Rec Loss: 0.003506182925775647,\t KL Loss: 0.48550891876220703\n",
            "It 17200: Total Loss: 0.0034113829024136066, \t Rec Loss: 0.0033614111598581076,\t KL Loss: 0.4997181296348572\n",
            "It 17300: Total Loss: 0.003728377167135477, \t Rec Loss: 0.0036806482821702957,\t KL Loss: 0.4772897958755493\n",
            "It 17400: Total Loss: 0.003460247302427888, \t Rec Loss: 0.003413076512515545,\t KL Loss: 0.47170740365982056\n",
            "It 17500: Total Loss: 0.0037562327925115824, \t Rec Loss: 0.00370620284229517,\t KL Loss: 0.5002985000610352\n",
            "It 17600: Total Loss: 0.003889293409883976, \t Rec Loss: 0.0038407645188272,\t KL Loss: 0.4852892756462097\n",
            "It 17700: Total Loss: 0.003431204240769148, \t Rec Loss: 0.0033860772382467985,\t KL Loss: 0.4512707591056824\n",
            "It 17800: Total Loss: 0.0034039882011711597, \t Rec Loss: 0.003357021603733301,\t KL Loss: 0.4696669280529022\n",
            "Run Epoch 19\n",
            "It 17900: Total Loss: 0.0037415865808725357, \t Rec Loss: 0.003693677019327879,\t KL Loss: 0.47909629344940186\n",
            "It 18000: Total Loss: 0.003338267793878913, \t Rec Loss: 0.0032914713956415653,\t KL Loss: 0.4679633677005768\n",
            "It 18100: Total Loss: 0.0031643197871744633, \t Rec Loss: 0.003119177184998989,\t KL Loss: 0.4514251947402954\n",
            "It 18200: Total Loss: 0.004006393253803253, \t Rec Loss: 0.003961799666285515,\t KL Loss: 0.44593721628189087\n",
            "It 18300: Total Loss: 0.003166100475937128, \t Rec Loss: 0.0031207799911499023,\t KL Loss: 0.4532041549682617\n",
            "It 18400: Total Loss: 0.00353970006108284, \t Rec Loss: 0.0034944668877869844,\t KL Loss: 0.4523316025733948\n",
            "It 18500: Total Loss: 0.003044478828087449, \t Rec Loss: 0.0029996554367244244,\t KL Loss: 0.4482339918613434\n",
            "It 18600: Total Loss: 0.003051369683817029, \t Rec Loss: 0.0030073036905378103,\t KL Loss: 0.4406590461730957\n",
            "It 18700: Total Loss: 0.0031380050349980593, \t Rec Loss: 0.0030945593025535345,\t KL Loss: 0.434457391500473\n",
            "Done!\n"
          ],
          "name": "stdout"
        },
        {
          "output_type": "display_data",
          "data": {
            "image/png": "[encoded data removed]",
            "text/plain": [
              "<Figure size 720x360 with 2 Axes>"
            ]
          },
          "metadata": {
            "tags": [],
            "needs_background": "light"
          }
        }
      ]
    },
    {
      "cell_type": "markdown",
      "metadata": {
        "id": "YDK4A6WQPgUi"
      },
      "source": [
        "Let's look at some reconstructions and decoded embedding samples!"
      ]
    },
    {
      "cell_type": "code",
      "metadata": {
        "id": "2KnFxjABPmQP",
        "outputId": "eee13eb6-f37e-4efc-992f-9051547caabe",
        "colab": {
          "base_uri": "https://localhost:8080/",
          "height": 1000
        }
      },
      "source": [
        "# visualize VAE reconstructions and samples from the generative model\n",
        "vis_reconstruction(vae_model)\n",
        "vis_samples(vae_model)"
      ],
      "execution_count": 49,
      "outputs": [
        {
          "output_type": "display_data",
          "data": {
            "image/png": "[encoded data removed]",
            "text/plain": [
              "<Figure size 1440x3600 with 1 Axes>"
            ]
          },
          "metadata": {
            "tags": [],
            "needs_background": "light"
          }
        },
        {
          "output_type": "display_data",
          "data": {
            "image/png": "[encoded data removed]",
            "text/plain": [
              "<Figure size 720x720 with 1 Axes>"
            ]
          },
          "metadata": {
            "tags": [],
            "needs_background": "light"
          }
        }
      ]
    },
    {
      "cell_type": "markdown",
      "metadata": {
        "id": "DlofqS_pUcOU"
      },
      "source": [
        ">**Inline Question: What can you observe when setting $\\beta = 0$? Explain your observations! [3pt]** \\\\\n",
        ">(please limit your answer to <150 words) \\\\\n",
        ">**Answer:** \n",
        "The reconstructions and decoded embedding samples are just like the results of AE model. This is because the impact of KL divergence loss is lost when setting $\\beta = 0$, so the VAE model become as same as AE with only reconstruction loss. And as we can see, when we ignore KL divergence loss during training, KL loss will continuously increase."
      ]
    },
    {
      "cell_type": "markdown",
      "metadata": {
        "id": "BqFtLvsIEwRy"
      },
      "source": [
        "Let's repeat the same experiment for $\\beta = 10$, a very high value for the coefficient. You can modify the $\\beta$ value in the cell above and rerun it (it is okay to overwrite the outputs of the previous experiment, but **make sure to copy the visualizations of training curves, reconstructions and samples for $\\beta = 0$ into your solution PDF** before deleting them).\n",
        "\n",
        ">**Inline Question: What can you observe when setting $\\beta = 10$? Explain your observations! [3pt]** \\\\\n",
        ">(please limit your answer to <200 words) \\\\\n",
        ">**Answer**:\n",
        "I notice that the reconstructions are still good but not as clear as when $\\beta = 0$. The lines in the decoded embedding samples become much thicker.\n",
        "This is because the value of $\\beta$ is too big, so the reconstructions quality become less. "
      ]
    },
    {
      "cell_type": "markdown",
      "metadata": {
        "id": "PQsTfzqs6-7x"
      },
      "source": [
        ""
      ]
    },
    {
      "cell_type": "markdown",
      "metadata": {
        "id": "M_pdzfj--tUB"
      },
      "source": [
        "Now we can start tuning the beta value to achieve a good result. First describe what a \"good result\" would look like (focus what you would expect for reconstructions and sample quality). \n",
        "\n",
        ">**Inline Question: Characterize what properties you would expect for reconstructions (1pt) and samples (2pt) of a well-tuned VAE! [3pt]** \\\\\n",
        ">(please limit your answer to <200 words) \\\\\n",
        ">**Answer**:\n",
        "For reconstructions, I wish the generated images can be as similar as possible to the origin one. For samples, I hope it could generate images that close enough to human hand-writing digits."
      ]
    },
    {
      "cell_type": "markdown",
      "metadata": {
        "id": "MpznmVGvGXjO"
      },
      "source": [
        "## Tuning the $\\beta$-factor [5pt]\n",
        "Now that you know what outcome we would like to obtain, try to tune $\\beta$ to achieve this result. \n",
        "\n",
        "(logarithmic search in steps of 10x will be helpful, good results can be achieved after ~20 epochs of training). It is again okay to overwrite the results of the previous $\\beta=10$ experiment after copying them to the solution PDF. \n",
        "\n",
        "**Your final notebook should include the visualizations of your best-tuned VAE.**\n"
      ]
    },
    {
      "cell_type": "markdown",
      "metadata": {
        "id": "VtU4-fHnAbYL"
      },
      "source": [
        "# 4. Embedding Space Interpolation [3pt]\n",
        "\n",
        "As mentioned in the introduction, AEs and VAEs cannot only be used to generate images, but also to learn low-dimensional representations of their inputs. In this final section we will investigate the representations we learned with both models by **interpolating in embedding space** between different images. We will encode two images into their low-dimensional embedding representations, then interpolate these embeddings and reconstruct the result."
      ]
    },
    {
      "cell_type": "code",
      "metadata": {
        "id": "9VO_Dj-nAw6z",
        "outputId": "c775a9bb-011a-4ea5-c66e-b0fb7443721d",
        "colab": {
          "base_uri": "https://localhost:8080/",
          "height": 279
        }
      },
      "source": [
        "START_LABEL = 5\n",
        "END_LABEL = 0\n",
        "nz=64\n",
        "\n",
        "def get_image_with_label(target_label):\n",
        "  \"\"\"Returns a random image from the training set with the requested digit.\"\"\"\n",
        "  for img_batch, label_batch in mnist_data_loader:\n",
        "    for img, label in zip(img_batch, label_batch):\n",
        "      if label == target_label:\n",
        "        return img.to(device)\n",
        "\n",
        "def interpolate_and_visualize(model, tag, start_img, end_img):\n",
        "  \"\"\"Encodes images and performs interpolation. Displays decodings.\"\"\"\n",
        "  model.eval()    # put model in eval mode to avoid updating batchnorm\n",
        "\n",
        "  # encode both images into embeddings (use posterior mean for interpolation)\n",
        "  z_start = model.encoder(start_img[None])[..., :nz]\n",
        "  z_end = model.encoder(end_img[None])[..., :nz]\n",
        "\n",
        "  # compute interpolated latents\n",
        "  N_INTER_STEPS = 5\n",
        "  z_inter = [z_start + i/N_INTER_STEPS * (z_end - z_start) for i in range(N_INTER_STEPS)]\n",
        "\n",
        "  # decode interpolated embeddings (as a single batch)\n",
        "  img_inter = model.decoder(torch.cat(z_inter))\n",
        "\n",
        "  # reshape result and display interpolation\n",
        "  vis_imgs = torch.cat([start_img[None], img_inter, end_img[None]])\n",
        "  fig = plt.figure(figsize = (10, 10))   \n",
        "  ax1 = plt.subplot(111)\n",
        "  ax1.imshow(torchvision.utils.make_grid(vis_imgs, nrow=N_INTER_STEPS+2, pad_value=1.)\\\n",
        "                  .data.cpu().numpy().transpose(1, 2, 0), cmap='gray')\n",
        "  plt.title(tag)\n",
        "  plt.show()\n",
        "\n",
        "\n",
        "# sample two training images with given labels\n",
        "start_img = get_image_with_label(START_LABEL)\n",
        "end_img = get_image_with_label(END_LABEL)\n",
        "\n",
        "# visualize interpolations for AE and VAE models\n",
        "interpolate_and_visualize(ae_model, \"Auto-Encoder\", start_img, end_img)\n",
        "interpolate_and_visualize(vae_model, \"Variational Auto-Encoder\", start_img, end_img)\n"
      ],
      "execution_count": 51,
      "outputs": [
        {
          "output_type": "display_data",
          "data": {
            "image/png": "[encoded data removed]",
            "text/plain": [
              "<Figure size 720x720 with 1 Axes>"
            ]
          },
          "metadata": {
            "tags": [],
            "needs_background": "light"
          }
        },
        {
          "output_type": "display_data",
          "data": {
            "image/png": "[encoded data removed]",
            "text/plain": [
              "<Figure size 720x720 with 1 Axes>"
            ]
          },
          "metadata": {
            "tags": [],
            "needs_background": "light"
          }
        }
      ]
    },
    {
      "cell_type": "markdown",
      "metadata": {
        "id": "YdQKHspOF_5Q"
      },
      "source": [
        "Repeat the experiment for different start / end labels and different samples. Describe your observations.\n",
        "\n",
        ">**Inline Question: Repeat the interpolation experiment with different start / end labels and multiple samples. Describe your observations!\n",
        "Focus on**: \\\\\n",
        "  1. **How do AE and VAE embedding space interpolations differ?** \\\\\n",
        "  2. **How do you expect these differences to affect the usefulness of the learned representation for downstream learning?** \\\\\n",
        "(please limit your answer to <300 words)\n",
        "\n",
        ">**Answer**:\n",
        "The results shows that during the steps of interpolation, the start image gradually transforms into the end image. I can see that in VAE this process is faster than AE. Those difference will make VAE has better performance and interpretability for downstream learning."
      ]
    },
    {
      "cell_type": "markdown",
      "metadata": {
        "id": "ytPPsGz2vBx0"
      },
      "source": [
        "# Submission PDF\n",
        "\n",
        "As in assignment 1, please prepare a separate submission PDF for each problem. For this problem, please include the following plots & answers in a PDF called `problem_1_solution.pdf`:\n",
        "\n",
        "1. Auto-encoder samples and AE sampling inline question answer.\n",
        "2. VAE training curves, reconstructions and samples for:\n",
        "  * $\\beta = 0$\n",
        "  * $\\beta = 10$\n",
        "  * your tuned $\\beta$ (also listing the tuned value for $\\beta$)\n",
        "3. Answers to all inline questions in VAE section (ie 4 inline questions).\n",
        "4. Three representative interpolation comparisons that show AE and VAE embedding interpolation between the same images.\n",
        "5. Answer to interpolation inline question.\n",
        "\n",
        "Note that you still need to submit the jupyter notebook with all generated solutions. We will randomly pick submissions and check that the plots in the PDF and in the notebook are equivalent (except for those $\\beta=0\\;/\\;10$ plots that we allowed to overwrite)."
      ]
    }
  ]
}